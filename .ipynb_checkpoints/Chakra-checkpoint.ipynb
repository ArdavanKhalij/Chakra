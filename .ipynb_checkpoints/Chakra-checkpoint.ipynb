{
 "cells": [
  {
   "cell_type": "code",
   "execution_count": 1,
   "id": "61313e19",
   "metadata": {},
   "outputs": [],
   "source": [
    "using Chakra"
   ]
  },
  {
   "cell_type": "code",
   "execution_count": 2,
   "id": "ebd74bca",
   "metadata": {},
   "outputs": [
    {
     "data": {
      "text/plain": [
       "Main.I"
      ]
     },
     "execution_count": 2,
     "metadata": {},
     "output_type": "execute_result"
    }
   ],
   "source": [
    "module I\n",
    "    using Chakra\n",
    "    \n",
    "    export id, k\n",
    "\n",
    "    struct Identifier\n",
    "        id::Int\n",
    "    end\n",
    "    struct Constituent\n",
    "        attributes::Dict{Symbol,Any}\n",
    "        particles::Vector{Identifier}\n",
    "    end\n",
    "    struct Hierarchy\n",
    "        domain::Vector{Identifier}\n",
    "        constituents::Dict{Identifier,Constituent}\n",
    "    end\n",
    "\n",
    "    id(x::Int) = Identifier(x)\n",
    "    k(ps::Vector{Identifier}) = Constituent(Dict{Symbol,Any}(),ps)\n",
    "    \n",
    "    Chakra.@Attribute(:A,Int)\n",
    "    Chakra.@Attribute(:B,String)\n",
    "\n",
    "    Chakra.agg(ps::Vector{Identifier}) = k(ps)\n",
    "    Chakra.pts(c::Constituent) = c.particles\n",
    "    Chakra.geta(::Att{:A,Int},c::Constituent) = Base.get(c.attributes,:A,none)\n",
    "    Chakra.geta(::Att{:B,String},c::Constituent) = Base.get(c.attributes,:B,none)\n",
    "    Chakra.seta!(::Att{a,T},v,c::Constituent) where {a,T} = c.attributes[a] = v\n",
    "    Chakra.fnd(x::Identifier,h::Hierarchy) = Base.get(h.constituents,x,none)\n",
    "    Chakra.ins!(x::Identifier,c::Constituent,h::Hierarchy) = (push!(h.domain,x); h.constituents[x] = c)\n",
    "    Chakra.dom(h::Hierarchy) = h.domain\n",
    "end"
   ]
  },
  {
   "cell_type": "code",
   "execution_count": 6,
   "id": "97b73b25",
   "metadata": {},
   "outputs": [
    {
     "data": {
      "text/plain": [
       "(Main.I.Identifier(1), Main.I.Identifier(2), Main.I.Identifier(3))"
      ]
     },
     "execution_count": 6,
     "metadata": {},
     "output_type": "execute_result"
    }
   ],
   "source": [
    "x,y,z = I.id(1), I.id(2), I.id(3)"
   ]
  },
  {
   "cell_type": "code",
   "execution_count": null,
   "id": "e849ef18",
   "metadata": {},
   "outputs": [],
   "source": []
  }
 ],
 "metadata": {
  "kernelspec": {
   "display_name": "Julia 1.7.3",
   "language": "julia",
   "name": "julia-1.7"
  },
  "language_info": {
   "file_extension": ".jl",
   "mimetype": "application/julia",
   "name": "julia",
   "version": "1.7.3"
  }
 },
 "nbformat": 4,
 "nbformat_minor": 5
}
