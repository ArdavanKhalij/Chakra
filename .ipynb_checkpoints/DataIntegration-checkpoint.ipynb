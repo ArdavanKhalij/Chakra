{
 "cells": [
  {
   "cell_type": "markdown",
   "id": "b35f70ff",
   "metadata": {},
   "source": [
    "# Data Integration with CHAKRA"
   ]
  },
  {
   "cell_type": "markdown",
   "id": "6a329dfd",
   "metadata": {},
   "source": [
    "## Import CHAKRA library"
   ]
  },
  {
   "cell_type": "code",
   "execution_count": 20,
   "id": "55b99306",
   "metadata": {},
   "outputs": [],
   "source": [
    "using Chakra"
   ]
  },
  {
   "cell_type": "markdown",
   "id": "4ef09752",
   "metadata": {},
   "source": [
    "## Implement an interface for a data source S1\n",
    "\n",
    "The interface must define the core CHAKRA types and operations."
   ]
  },
  {
   "cell_type": "code",
   "execution_count": 40,
   "id": "f5dfa600",
   "metadata": {},
   "outputs": [
    {
     "name": "stderr",
     "output_type": "stream",
     "text": [
      "WARNING: replacing module S1.\n"
     ]
    },
    {
     "ename": "LoadError",
     "evalue": "UndefVarError: Prp not defined",
     "output_type": "error",
     "traceback": [
      "UndefVarError: Prp not defined",
      "",
      "Stacktrace:",
      " [1] top-level scope",
      "   @ ~/Dropbox/Chakra/src/Chakra.jl:321",
      " [2] eval",
      "   @ ./boot.jl:373 [inlined]",
      " [3] include_string(mapexpr::typeof(REPL.softscope), mod::Module, code::String, filename::String)",
      "   @ Base ./loading.jl:1196"
     ]
    },
    {
     "name": "stderr",
     "output_type": "stream",
     "text": [
      "WARNING: replacing module S1.\n"
     ]
    },
    {
     "ename": "LoadError",
     "evalue": "UndefVarError: Prp not defined",
     "output_type": "error",
     "traceback": [
      "UndefVarError: Prp not defined",
      "",
      "Stacktrace:",
      " [1] top-level scope",
      "   @ ~/Dropbox/Chakra/src/Chakra.jl:321",
      " [2] eval",
      "   @ ./boot.jl:373 [inlined]",
      " [3] include_string(mapexpr::typeof(REPL.softscope), mod::Module, code::String, filename::String)",
      "   @ Base ./loading.jl:1196"
     ]
    }
   ],
   "source": [
    "module S1\n",
    "    using Chakra\n",
    "    Chakra.@Reference Int []\n",
    "    \n",
    "    # DEFINE ATTRIBUTES\n",
    "\n",
    "    Chakra.@Attribute(:A,Int)\n",
    "    Chakra.@Attribute(:B,String)\n",
    "\n",
    "    o = Chakra.seta(Att(:A),10,c(Id[]))\n",
    "\n",
    "    data = Chakra.ins(Id(1),o,emp(Hierarchy))\n",
    "\n",
    "end"
   ]
  },
  {
   "cell_type": "code",
   "execution_count": 22,
   "id": "2f92a728",
   "metadata": {},
   "outputs": [
    {
     "ename": "LoadError",
     "evalue": "UndefVarError: data not defined",
     "output_type": "error",
     "traceback": [
      "UndefVarError: data not defined",
      "",
      "Stacktrace:",
      " [1] getproperty(x::Module, f::Symbol)",
      "   @ Base ./Base.jl:35",
      " [2] top-level scope",
      "   @ In[22]:1",
      " [3] eval",
      "   @ ./boot.jl:373 [inlined]",
      " [4] include_string(mapexpr::typeof(REPL.softscope), mod::Module, code::String, filename::String)",
      "   @ Base ./loading.jl:1196"
     ]
    },
    {
     "ename": "LoadError",
     "evalue": "UndefVarError: data not defined",
     "output_type": "error",
     "traceback": [
      "UndefVarError: data not defined",
      "",
      "Stacktrace:",
      " [1] getproperty(x::Module, f::Symbol)",
      "   @ Base ./Base.jl:35",
      " [2] top-level scope",
      "   @ In[22]:1",
      " [3] eval",
      "   @ ./boot.jl:373 [inlined]",
      " [4] include_string(mapexpr::typeof(REPL.softscope), mod::Module, code::String, filename::String)",
      "   @ Base ./loading.jl:1196"
     ]
    }
   ],
   "source": [
    "typeof(S1.data)"
   ]
  },
  {
   "cell_type": "code",
   "execution_count": 23,
   "id": "84d95615",
   "metadata": {},
   "outputs": [
    {
     "ename": "LoadError",
     "evalue": "UndefVarError: data not defined",
     "output_type": "error",
     "traceback": [
      "UndefVarError: data not defined",
      "",
      "Stacktrace:",
      " [1] getproperty(x::Module, f::Symbol)",
      "   @ Base ./Base.jl:35",
      " [2] top-level scope",
      "   @ In[23]:1",
      " [3] eval",
      "   @ ./boot.jl:373 [inlined]",
      " [4] include_string(mapexpr::typeof(REPL.softscope), mod::Module, code::String, filename::String)",
      "   @ Base ./loading.jl:1196"
     ]
    },
    {
     "ename": "LoadError",
     "evalue": "UndefVarError: data not defined",
     "output_type": "error",
     "traceback": [
      "UndefVarError: data not defined",
      "",
      "Stacktrace:",
      " [1] getproperty(x::Module, f::Symbol)",
      "   @ Base ./Base.jl:35",
      " [2] top-level scope",
      "   @ In[23]:1",
      " [3] eval",
      "   @ ./boot.jl:373 [inlined]",
      " [4] include_string(mapexpr::typeof(REPL.softscope), mod::Module, code::String, filename::String)",
      "   @ Base ./loading.jl:1196"
     ]
    }
   ],
   "source": [
    "dom(S1.data)"
   ]
  },
  {
   "cell_type": "code",
   "execution_count": 24,
   "id": "a5bab6a9",
   "metadata": {},
   "outputs": [
    {
     "ename": "LoadError",
     "evalue": "UndefVarError: Id not defined",
     "output_type": "error",
     "traceback": [
      "UndefVarError: Id not defined",
      "",
      "Stacktrace:",
      " [1] getproperty(x::Module, f::Symbol)",
      "   @ Base ./Base.jl:35",
      " [2] top-level scope",
      "   @ In[24]:1",
      " [3] eval",
      "   @ ./boot.jl:373 [inlined]",
      " [4] include_string(mapexpr::typeof(REPL.softscope), mod::Module, code::String, filename::String)",
      "   @ Base ./loading.jl:1196"
     ]
    },
    {
     "ename": "LoadError",
     "evalue": "UndefVarError: Id not defined",
     "output_type": "error",
     "traceback": [
      "UndefVarError: Id not defined",
      "",
      "Stacktrace:",
      " [1] getproperty(x::Module, f::Symbol)",
      "   @ Base ./Base.jl:35",
      " [2] top-level scope",
      "   @ In[24]:1",
      " [3] eval",
      "   @ ./boot.jl:373 [inlined]",
      " [4] include_string(mapexpr::typeof(REPL.softscope), mod::Module, code::String, filename::String)",
      "   @ Base ./loading.jl:1196"
     ]
    }
   ],
   "source": [
    "geta(:A,S1.Id(1),S1.data)"
   ]
  },
  {
   "cell_type": "markdown",
   "id": "d3f78cc4",
   "metadata": {},
   "source": [
    "## Implement a second data source interface S2"
   ]
  },
  {
   "cell_type": "code",
   "execution_count": 25,
   "id": "e4d0c040",
   "metadata": {},
   "outputs": [
    {
     "name": "stderr",
     "output_type": "stream",
     "text": [
      "WARNING: replacing module S2.\n"
     ]
    },
    {
     "ename": "LoadError",
     "evalue": "SystemError: opening file \"/Users/nick/Dropbox/Chakra/Ref.jl\": No such file or directory",
     "output_type": "error",
     "traceback": [
      "SystemError: opening file \"/Users/nick/Dropbox/Chakra/Ref.jl\": No such file or directory",
      "",
      "Stacktrace:",
      "  [1] systemerror(p::String, errno::Int32; extrainfo::Nothing)",
      "    @ Base ./error.jl:174",
      "  [2] #systemerror#68",
      "    @ ./error.jl:173 [inlined]",
      "  [3] systemerror",
      "    @ ./error.jl:173 [inlined]",
      "  [4] open(fname::String; lock::Bool, read::Nothing, write::Nothing, create::Nothing, truncate::Nothing, append::Nothing)",
      "    @ Base ./iostream.jl:293",
      "  [5] open",
      "    @ ./iostream.jl:282 [inlined]",
      "  [6] open(f::Base.var\"#364#365\"{String}, args::String; kwargs::Base.Pairs{Symbol, Union{}, Tuple{}, NamedTuple{(), Tuple{}}})",
      "    @ Base ./io.jl:328",
      "  [7] open",
      "    @ ./io.jl:328 [inlined]",
      "  [8] read",
      "    @ ./io.jl:436 [inlined]",
      "  [9] _include(mapexpr::Function, mod::Module, _path::String)",
      "    @ Base ./loading.jl:1249",
      " [10] include(mod::Module, _path::String)",
      "    @ Base ./Base.jl:418",
      " [11] include(x::String)",
      "    @ Main.S2 ./In[25]:1",
      " [12] top-level scope",
      "    @ In[25]:3",
      " [13] eval",
      "    @ ./boot.jl:373 [inlined]",
      " [14] include_string(mapexpr::typeof(REPL.softscope), mod::Module, code::String, filename::String)",
      "    @ Base ./loading.jl:1196"
     ]
    },
    {
     "name": "stderr",
     "output_type": "stream",
     "text": [
      "WARNING: replacing module S2.\n"
     ]
    },
    {
     "ename": "LoadError",
     "evalue": "SystemError: opening file \"/Users/nick/Dropbox/Chakra/Ref.jl\": No such file or directory",
     "output_type": "error",
     "traceback": [
      "SystemError: opening file \"/Users/nick/Dropbox/Chakra/Ref.jl\": No such file or directory",
      "",
      "Stacktrace:",
      "  [1] systemerror(p::String, errno::Int32; extrainfo::Nothing)",
      "    @ Base ./error.jl:174",
      "  [2] #systemerror#68",
      "    @ ./error.jl:173 [inlined]",
      "  [3] systemerror",
      "    @ ./error.jl:173 [inlined]",
      "  [4] open(fname::String; lock::Bool, read::Nothing, write::Nothing, create::Nothing, truncate::Nothing, append::Nothing)",
      "    @ Base ./iostream.jl:293",
      "  [5] open",
      "    @ ./iostream.jl:282 [inlined]",
      "  [6] open(f::Base.var\"#364#365\"{String}, args::String; kwargs::Base.Pairs{Symbol, Union{}, Tuple{}, NamedTuple{(), Tuple{}}})",
      "    @ Base ./io.jl:328",
      "  [7] open",
      "    @ ./io.jl:328 [inlined]",
      "  [8] read",
      "    @ ./io.jl:436 [inlined]",
      "  [9] _include(mapexpr::Function, mod::Module, _path::String)",
      "    @ Base ./loading.jl:1249",
      " [10] include(mod::Module, _path::String)",
      "    @ Base ./Base.jl:418",
      " [11] include(x::String)",
      "    @ Main.S2 ./In[25]:1",
      " [12] top-level scope",
      "    @ In[25]:3",
      " [13] eval",
      "    @ ./boot.jl:373 [inlined]",
      " [14] include_string(mapexpr::typeof(REPL.softscope), mod::Module, code::String, filename::String)",
      "    @ Base ./loading.jl:1196"
     ]
    }
   ],
   "source": [
    "module S2\n",
    "    using Chakra, DataStructures\n",
    "    include(\"Ref.jl\")\n",
    "    @REF Int []\n",
    "\n",
    "    data = Chakra.ins!(Id(2),c(Id[]),emp(Hierarchy))\n",
    "\n",
    "end"
   ]
  },
  {
   "cell_type": "code",
   "execution_count": 26,
   "id": "432c3784",
   "metadata": {},
   "outputs": [
    {
     "ename": "LoadError",
     "evalue": "UndefVarError: data not defined",
     "output_type": "error",
     "traceback": [
      "UndefVarError: data not defined",
      "",
      "Stacktrace:",
      " [1] getproperty(x::Module, f::Symbol)",
      "   @ Base ./Base.jl:35",
      " [2] top-level scope",
      "   @ In[26]:1",
      " [3] eval",
      "   @ ./boot.jl:373 [inlined]",
      " [4] include_string(mapexpr::typeof(REPL.softscope), mod::Module, code::String, filename::String)",
      "   @ Base ./loading.jl:1196"
     ]
    },
    {
     "ename": "LoadError",
     "evalue": "UndefVarError: data not defined",
     "output_type": "error",
     "traceback": [
      "UndefVarError: data not defined",
      "",
      "Stacktrace:",
      " [1] getproperty(x::Module, f::Symbol)",
      "   @ Base ./Base.jl:35",
      " [2] top-level scope",
      "   @ In[26]:1",
      " [3] eval",
      "   @ ./boot.jl:373 [inlined]",
      " [4] include_string(mapexpr::typeof(REPL.softscope), mod::Module, code::String, filename::String)",
      "   @ Base ./loading.jl:1196"
     ]
    }
   ],
   "source": [
    "dom(S2.data)"
   ]
  },
  {
   "cell_type": "markdown",
   "id": "a9156220",
   "metadata": {},
   "source": [
    "## Link data sources S1 and S2 using a third data source S3"
   ]
  },
  {
   "cell_type": "code",
   "execution_count": 27,
   "id": "1fb1494e",
   "metadata": {},
   "outputs": [
    {
     "ename": "LoadError",
     "evalue": "UndefVarError: Id not defined",
     "output_type": "error",
     "traceback": [
      "UndefVarError: Id not defined",
      "",
      "Stacktrace:",
      " [1] getproperty",
      "   @ ./Base.jl:35 [inlined]",
      " [2] #3",
      "   @ ./none:0 [inlined]",
      " [3] iterate",
      "   @ ./generator.jl:47 [inlined]",
      " [4] collect(itr::Base.Generator{Vector{Module}, var\"#3#4\"})",
      "   @ Base ./array.jl:724",
      " [5] top-level scope",
      "   @ In[27]:1",
      " [6] eval",
      "   @ ./boot.jl:373 [inlined]",
      " [7] include_string(mapexpr::typeof(REPL.softscope), mod::Module, code::String, filename::String)",
      "   @ Base ./loading.jl:1196"
     ]
    },
    {
     "ename": "LoadError",
     "evalue": "UndefVarError: Id not defined",
     "output_type": "error",
     "traceback": [
      "UndefVarError: Id not defined",
      "",
      "Stacktrace:",
      " [1] getproperty",
      "   @ ./Base.jl:35 [inlined]",
      " [2] #3",
      "   @ ./none:0 [inlined]",
      " [3] iterate",
      "   @ ./generator.jl:47 [inlined]",
      " [4] collect(itr::Base.Generator{Vector{Module}, var\"#3#4\"})",
      "   @ Base ./array.jl:724",
      " [5] top-level scope",
      "   @ In[27]:1",
      " [6] eval",
      "   @ ./boot.jl:373 [inlined]",
      " [7] include_string(mapexpr::typeof(REPL.softscope), mod::Module, code::String, filename::String)",
      "   @ Base ./loading.jl:1196"
     ]
    }
   ],
   "source": [
    "[m.Id for m in [S1, S2]]"
   ]
  },
  {
   "cell_type": "code",
   "execution_count": 28,
   "id": "e9c4b2e0",
   "metadata": {},
   "outputs": [
    {
     "name": "stderr",
     "output_type": "stream",
     "text": [
      "WARNING: replacing module S3.\n"
     ]
    },
    {
     "ename": "LoadError",
     "evalue": "SystemError: opening file \"/Users/nick/Dropbox/Chakra/Ref.jl\": No such file or directory",
     "output_type": "error",
     "traceback": [
      "SystemError: opening file \"/Users/nick/Dropbox/Chakra/Ref.jl\": No such file or directory",
      "",
      "Stacktrace:",
      "  [1] systemerror(p::String, errno::Int32; extrainfo::Nothing)",
      "    @ Base ./error.jl:174",
      "  [2] #systemerror#68",
      "    @ ./error.jl:173 [inlined]",
      "  [3] systemerror",
      "    @ ./error.jl:173 [inlined]",
      "  [4] open(fname::String; lock::Bool, read::Nothing, write::Nothing, create::Nothing, truncate::Nothing, append::Nothing)",
      "    @ Base ./iostream.jl:293",
      "  [5] open",
      "    @ ./iostream.jl:282 [inlined]",
      "  [6] open(f::Base.var\"#364#365\"{String}, args::String; kwargs::Base.Pairs{Symbol, Union{}, Tuple{}, NamedTuple{(), Tuple{}}})",
      "    @ Base ./io.jl:328",
      "  [7] open",
      "    @ ./io.jl:328 [inlined]",
      "  [8] read",
      "    @ ./io.jl:436 [inlined]",
      "  [9] _include(mapexpr::Function, mod::Module, _path::String)",
      "    @ Base ./loading.jl:1249",
      " [10] include(mod::Module, _path::String)",
      "    @ Base ./Base.jl:418",
      " [11] include(x::String)",
      "    @ Main.S3 ./In[28]:1",
      " [12] top-level scope",
      "    @ In[28]:5",
      " [13] eval",
      "    @ ./boot.jl:373 [inlined]",
      " [14] include_string(mapexpr::typeof(REPL.softscope), mod::Module, code::String, filename::String)",
      "    @ Base ./loading.jl:1196"
     ]
    },
    {
     "name": "stderr",
     "output_type": "stream",
     "text": [
      "WARNING: replacing module S3.\n"
     ]
    },
    {
     "ename": "LoadError",
     "evalue": "SystemError: opening file \"/Users/nick/Dropbox/Chakra/Ref.jl\": No such file or directory",
     "output_type": "error",
     "traceback": [
      "SystemError: opening file \"/Users/nick/Dropbox/Chakra/Ref.jl\": No such file or directory",
      "",
      "Stacktrace:",
      "  [1] systemerror(p::String, errno::Int32; extrainfo::Nothing)",
      "    @ Base ./error.jl:174",
      "  [2] #systemerror#68",
      "    @ ./error.jl:173 [inlined]",
      "  [3] systemerror",
      "    @ ./error.jl:173 [inlined]",
      "  [4] open(fname::String; lock::Bool, read::Nothing, write::Nothing, create::Nothing, truncate::Nothing, append::Nothing)",
      "    @ Base ./iostream.jl:293",
      "  [5] open",
      "    @ ./iostream.jl:282 [inlined]",
      "  [6] open(f::Base.var\"#364#365\"{String}, args::String; kwargs::Base.Pairs{Symbol, Union{}, Tuple{}, NamedTuple{(), Tuple{}}})",
      "    @ Base ./io.jl:328",
      "  [7] open",
      "    @ ./io.jl:328 [inlined]",
      "  [8] read",
      "    @ ./io.jl:436 [inlined]",
      "  [9] _include(mapexpr::Function, mod::Module, _path::String)",
      "    @ Base ./loading.jl:1249",
      " [10] include(mod::Module, _path::String)",
      "    @ Base ./Base.jl:418",
      " [11] include(x::String)",
      "    @ Main.S3 ./In[28]:1",
      " [12] top-level scope",
      "    @ In[28]:5",
      " [13] eval",
      "    @ ./boot.jl:373 [inlined]",
      " [14] include_string(mapexpr::typeof(REPL.softscope), mod::Module, code::String, filename::String)",
      "    @ Base ./loading.jl:1196"
     ]
    }
   ],
   "source": [
    "module S3\n",
    "    using Chakra, DataStructures\n",
    "    using Main.S1, Main.S2\n",
    "    \n",
    "    include(\"Ref.jl\")\n",
    "    @REF Int [S1,S2]\n",
    "    \n",
    "    Chakra.fnd(x::S1.Id,h::Hierarchy) = fnd(x,S1.data)\n",
    "    Chakra.fnd(x::S2.Id,h::Hierarchy) = fnd(x,S2.data)\n",
    "    Chakra.dom(h::Hierarchy) = vcat(collect(keys(h.constituents)),dom(S1.data),dom(S2.data))\n",
    "\n",
    "    data = Chakra.ins(Id(3),c(DOMAIN[S1.Id(1),S2.Id(2)]),emp(Hierarchy))\n",
    "\n",
    "end"
   ]
  },
  {
   "cell_type": "code",
   "execution_count": 29,
   "id": "58fa1fc9",
   "metadata": {},
   "outputs": [
    {
     "ename": "LoadError",
     "evalue": "UndefVarError: data not defined",
     "output_type": "error",
     "traceback": [
      "UndefVarError: data not defined",
      "",
      "Stacktrace:",
      " [1] getproperty(x::Module, f::Symbol)",
      "   @ Base ./Base.jl:35",
      " [2] top-level scope",
      "   @ In[29]:1",
      " [3] eval",
      "   @ ./boot.jl:373 [inlined]",
      " [4] include_string(mapexpr::typeof(REPL.softscope), mod::Module, code::String, filename::String)",
      "   @ Base ./loading.jl:1196"
     ]
    },
    {
     "ename": "LoadError",
     "evalue": "UndefVarError: data not defined",
     "output_type": "error",
     "traceback": [
      "UndefVarError: data not defined",
      "",
      "Stacktrace:",
      " [1] getproperty(x::Module, f::Symbol)",
      "   @ Base ./Base.jl:35",
      " [2] top-level scope",
      "   @ In[29]:1",
      " [3] eval",
      "   @ ./boot.jl:373 [inlined]",
      " [4] include_string(mapexpr::typeof(REPL.softscope), mod::Module, code::String, filename::String)",
      "   @ Base ./loading.jl:1196"
     ]
    }
   ],
   "source": [
    "dom(S3.data)"
   ]
  },
  {
   "cell_type": "code",
   "execution_count": 30,
   "id": "1333fc27",
   "metadata": {},
   "outputs": [
    {
     "ename": "LoadError",
     "evalue": "UndefVarError: Id not defined",
     "output_type": "error",
     "traceback": [
      "UndefVarError: Id not defined",
      "",
      "Stacktrace:",
      " [1] getproperty(x::Module, f::Symbol)",
      "   @ Base ./Base.jl:35",
      " [2] top-level scope",
      "   @ In[30]:1",
      " [3] eval",
      "   @ ./boot.jl:373 [inlined]",
      " [4] include_string(mapexpr::typeof(REPL.softscope), mod::Module, code::String, filename::String)",
      "   @ Base ./loading.jl:1196"
     ]
    },
    {
     "ename": "LoadError",
     "evalue": "UndefVarError: Id not defined",
     "output_type": "error",
     "traceback": [
      "UndefVarError: Id not defined",
      "",
      "Stacktrace:",
      " [1] getproperty(x::Module, f::Symbol)",
      "   @ Base ./Base.jl:35",
      " [2] top-level scope",
      "   @ In[30]:1",
      " [3] eval",
      "   @ ./boot.jl:373 [inlined]",
      " [4] include_string(mapexpr::typeof(REPL.softscope), mod::Module, code::String, filename::String)",
      "   @ Base ./loading.jl:1196"
     ]
    }
   ],
   "source": [
    "o = fnd(S3.Id(3),S3.data)"
   ]
  },
  {
   "cell_type": "code",
   "execution_count": 31,
   "id": "95b10b31",
   "metadata": {},
   "outputs": [
    {
     "ename": "LoadError",
     "evalue": "UndefVarError: o not defined",
     "output_type": "error",
     "traceback": [
      "UndefVarError: o not defined",
      "",
      "Stacktrace:",
      " [1] top-level scope",
      "   @ In[31]:1",
      " [2] eval",
      "   @ ./boot.jl:373 [inlined]",
      " [3] include_string(mapexpr::typeof(REPL.softscope), mod::Module, code::String, filename::String)",
      "   @ Base ./loading.jl:1196"
     ]
    },
    {
     "ename": "LoadError",
     "evalue": "UndefVarError: o not defined",
     "output_type": "error",
     "traceback": [
      "UndefVarError: o not defined",
      "",
      "Stacktrace:",
      " [1] top-level scope",
      "   @ In[31]:1",
      " [2] eval",
      "   @ ./boot.jl:373 [inlined]",
      " [3] include_string(mapexpr::typeof(REPL.softscope), mod::Module, code::String, filename::String)",
      "   @ Base ./loading.jl:1196"
     ]
    }
   ],
   "source": [
    "l = pts(o)"
   ]
  },
  {
   "cell_type": "code",
   "execution_count": 32,
   "id": "bba4d697",
   "metadata": {},
   "outputs": [
    {
     "ename": "LoadError",
     "evalue": "UndefVarError: Id not defined",
     "output_type": "error",
     "traceback": [
      "UndefVarError: Id not defined",
      "",
      "Stacktrace:",
      " [1] getproperty(x::Module, f::Symbol)",
      "   @ Base ./Base.jl:35",
      " [2] top-level scope",
      "   @ In[32]:1",
      " [3] eval",
      "   @ ./boot.jl:373 [inlined]",
      " [4] include_string(mapexpr::typeof(REPL.softscope), mod::Module, code::String, filename::String)",
      "   @ Base ./loading.jl:1196"
     ]
    },
    {
     "ename": "LoadError",
     "evalue": "UndefVarError: Id not defined",
     "output_type": "error",
     "traceback": [
      "UndefVarError: Id not defined",
      "",
      "Stacktrace:",
      " [1] getproperty(x::Module, f::Symbol)",
      "   @ Base ./Base.jl:35",
      " [2] top-level scope",
      "   @ In[32]:1",
      " [3] eval",
      "   @ ./boot.jl:373 [inlined]",
      " [4] include_string(mapexpr::typeof(REPL.softscope), mod::Module, code::String, filename::String)",
      "   @ Base ./loading.jl:1196"
     ]
    }
   ],
   "source": [
    "sequence(S3.Id(3),S3.data)"
   ]
  },
  {
   "cell_type": "code",
   "execution_count": 33,
   "id": "c9f46af0",
   "metadata": {},
   "outputs": [
    {
     "ename": "LoadError",
     "evalue": "UndefVarError: data not defined",
     "output_type": "error",
     "traceback": [
      "UndefVarError: data not defined",
      "",
      "Stacktrace:",
      " [1] getproperty(x::Module, f::Symbol)",
      "   @ Base ./Base.jl:35",
      " [2] top-level scope",
      "   @ In[33]:1",
      " [3] eval",
      "   @ ./boot.jl:373 [inlined]",
      " [4] include_string(mapexpr::typeof(REPL.softscope), mod::Module, code::String, filename::String)",
      "   @ Base ./loading.jl:1196"
     ]
    },
    {
     "ename": "LoadError",
     "evalue": "UndefVarError: data not defined",
     "output_type": "error",
     "traceback": [
      "UndefVarError: data not defined",
      "",
      "Stacktrace:",
      " [1] getproperty(x::Module, f::Symbol)",
      "   @ Base ./Base.jl:35",
      " [2] top-level scope",
      "   @ In[33]:1",
      " [3] eval",
      "   @ ./boot.jl:373 [inlined]",
      " [4] include_string(mapexpr::typeof(REPL.softscope), mod::Module, code::String, filename::String)",
      "   @ Base ./loading.jl:1196"
     ]
    }
   ],
   "source": [
    "sequence(l,S3.data)"
   ]
  },
  {
   "cell_type": "markdown",
   "id": "a18e2c36",
   "metadata": {},
   "source": [
    "## Example using JSON data"
   ]
  },
  {
   "cell_type": "code",
   "execution_count": 34,
   "id": "b60ce1fc",
   "metadata": {},
   "outputs": [
    {
     "name": "stderr",
     "output_type": "stream",
     "text": [
      "WARNING: replacing module CWISA95.\n"
     ]
    },
    {
     "ename": "LoadError",
     "evalue": "SystemError: opening file \"cwisa95.json\": No such file or directory",
     "output_type": "error",
     "traceback": [
      "SystemError: opening file \"cwisa95.json\": No such file or directory",
      "",
      "Stacktrace:",
      "  [1] systemerror(p::String, errno::Int32; extrainfo::Nothing)",
      "    @ Base ./error.jl:174",
      "  [2] #systemerror#68",
      "    @ ./error.jl:173 [inlined]",
      "  [3] systemerror",
      "    @ ./error.jl:173 [inlined]",
      "  [4] open(fname::String; lock::Bool, read::Bool, write::Nothing, create::Nothing, truncate::Nothing, append::Nothing)",
      "    @ Base ./iostream.jl:293",
      "  [5] open(fname::String, mode::String; lock::Bool)",
      "    @ Base ./iostream.jl:355",
      "  [6] open(fname::String, mode::String)",
      "    @ Base ./iostream.jl:355",
      "  [7] open(::Main.CWISA95.var\"#1#2\", ::String, ::Vararg{String}; kwargs::Base.Pairs{Symbol, Union{}, Tuple{}, NamedTuple{(), Tuple{}}})",
      "    @ Base ./io.jl:328",
      "  [8] open",
      "    @ ./io.jl:328 [inlined]",
      "  [9] load_file()",
      "    @ Main.CWISA95 ./In[34]:8",
      " [10] top-level scope",
      "    @ In[34]:15",
      " [11] eval",
      "    @ ./boot.jl:373 [inlined]",
      " [12] include_string(mapexpr::typeof(REPL.softscope), mod::Module, code::String, filename::String)",
      "    @ Base ./loading.jl:1196"
     ]
    },
    {
     "name": "stderr",
     "output_type": "stream",
     "text": [
      "WARNING: replacing module CWISA95.\n"
     ]
    },
    {
     "ename": "LoadError",
     "evalue": "SystemError: opening file \"cwisa95.json\": No such file or directory",
     "output_type": "error",
     "traceback": [
      "SystemError: opening file \"cwisa95.json\": No such file or directory",
      "",
      "Stacktrace:",
      "  [1] systemerror(p::String, errno::Int32; extrainfo::Nothing)",
      "    @ Base ./error.jl:174",
      "  [2] #systemerror#68",
      "    @ ./error.jl:173 [inlined]",
      "  [3] systemerror",
      "    @ ./error.jl:173 [inlined]",
      "  [4] open(fname::String; lock::Bool, read::Bool, write::Nothing, create::Nothing, truncate::Nothing, append::Nothing)",
      "    @ Base ./iostream.jl:293",
      "  [5] open(fname::String, mode::String; lock::Bool)",
      "    @ Base ./iostream.jl:355",
      "  [6] open(fname::String, mode::String)",
      "    @ Base ./iostream.jl:355",
      "  [7] open(::Main.CWISA95.var\"#1#2\", ::String, ::Vararg{String}; kwargs::Base.Pairs{Symbol, Union{}, Tuple{}, NamedTuple{(), Tuple{}}})",
      "    @ Base ./io.jl:328",
      "  [8] open",
      "    @ ./io.jl:328 [inlined]",
      "  [9] load_file()",
      "    @ Main.CWISA95 ./In[34]:8",
      " [10] top-level scope",
      "    @ In[34]:15",
      " [11] eval",
      "    @ ./boot.jl:373 [inlined]",
      " [12] include_string(mapexpr::typeof(REPL.softscope), mod::Module, code::String, filename::String)",
      "    @ Base ./loading.jl:1196"
     ]
    }
   ],
   "source": [
    "module CWISA95 \n",
    "\n",
    "using JSON, Chakra\n",
    "\n",
    "\n",
    "function load_file()\n",
    "    d = nothing\n",
    "    open(\"cwisa95.json\",\"r\") do f\n",
    "        txt = read(f,String)\n",
    "        d = JSON.parse(txt)\n",
    "    end\n",
    "    return d\n",
    "end\n",
    "\n",
    "json = load_file()\n",
    "\n",
    "\n",
    "struct Id\n",
    "    id::Symbol\n",
    "end\n",
    "\n",
    "cwisa95 = Id(:cwisa95)\n",
    "step0 = Id(:step0)\n",
    "step1 = Id(:step1)\n",
    "\n",
    "abstract type Constituent end\n",
    "struct Step <: Constituent \n",
    "    index::Int\n",
    "end\n",
    "\n",
    "struct Directive <: Constituent end\n",
    "\n",
    "struct Hierarchy end\n",
    "\n",
    "Chakra.@Attribute(:description,String)\n",
    "\n",
    "\n",
    "Chakra.pts(c::Step) = Constituent[]\n",
    "Chakra.pts(::Directive) = Step[step0,step1]\n",
    "\n",
    "Chakra.fnd(::Val{:cwisa95},::Hierarchy) = Directive()\n",
    "Chakra.fnd(::Val{:step0},::Hierarchy) = Step(0) \n",
    "Chakra.fnd(::Val{:step1},::Hierarchy) = Step(1)\n",
    "Chakra.fnd(x::Id,h::Hierarchy) = fnd(Val(x.id),h)\n",
    "\n",
    "Chakra.geta(::Att{a,T},c::Step) where {a,T} = json[\"workDirective\"][c.index+1][String(a)]\n",
    "\n",
    "Chakra.dom(::Hierarchy) = [cwisa95,step0,step1]\n",
    "\n",
    "data = Hierarchy()\n",
    "\n",
    "end\n",
    "\n",
    "\n",
    "CWISA95.data"
   ]
  },
  {
   "cell_type": "code",
   "execution_count": 35,
   "id": "b8328985",
   "metadata": {},
   "outputs": [
    {
     "ename": "LoadError",
     "evalue": "UndefVarError: data not defined",
     "output_type": "error",
     "traceback": [
      "UndefVarError: data not defined",
      "",
      "Stacktrace:",
      " [1] getproperty(x::Module, f::Symbol)",
      "   @ Base ./Base.jl:35",
      " [2] top-level scope",
      "   @ In[35]:1",
      " [3] eval",
      "   @ ./boot.jl:373 [inlined]",
      " [4] include_string(mapexpr::typeof(REPL.softscope), mod::Module, code::String, filename::String)",
      "   @ Base ./loading.jl:1196"
     ]
    },
    {
     "ename": "LoadError",
     "evalue": "UndefVarError: data not defined",
     "output_type": "error",
     "traceback": [
      "UndefVarError: data not defined",
      "",
      "Stacktrace:",
      " [1] getproperty(x::Module, f::Symbol)",
      "   @ Base ./Base.jl:35",
      " [2] top-level scope",
      "   @ In[35]:1",
      " [3] eval",
      "   @ ./boot.jl:373 [inlined]",
      " [4] include_string(mapexpr::typeof(REPL.softscope), mod::Module, code::String, filename::String)",
      "   @ Base ./loading.jl:1196"
     ]
    }
   ],
   "source": [
    "dom(CWISA95.data)"
   ]
  },
  {
   "cell_type": "code",
   "execution_count": 36,
   "id": "19f7b4b7",
   "metadata": {},
   "outputs": [
    {
     "ename": "LoadError",
     "evalue": "UndefVarError: step0 not defined",
     "output_type": "error",
     "traceback": [
      "UndefVarError: step0 not defined",
      "",
      "Stacktrace:",
      " [1] getproperty(x::Module, f::Symbol)",
      "   @ Base ./Base.jl:35",
      " [2] top-level scope",
      "   @ In[36]:1",
      " [3] eval",
      "   @ ./boot.jl:373 [inlined]",
      " [4] include_string(mapexpr::typeof(REPL.softscope), mod::Module, code::String, filename::String)",
      "   @ Base ./loading.jl:1196"
     ]
    },
    {
     "ename": "LoadError",
     "evalue": "UndefVarError: step0 not defined",
     "output_type": "error",
     "traceback": [
      "UndefVarError: step0 not defined",
      "",
      "Stacktrace:",
      " [1] getproperty(x::Module, f::Symbol)",
      "   @ Base ./Base.jl:35",
      " [2] top-level scope",
      "   @ In[36]:1",
      " [3] eval",
      "   @ ./boot.jl:373 [inlined]",
      " [4] include_string(mapexpr::typeof(REPL.softscope), mod::Module, code::String, filename::String)",
      "   @ Base ./loading.jl:1196"
     ]
    }
   ],
   "source": [
    "c = fnd(CWISA95.step0,CWISA95.data)"
   ]
  },
  {
   "cell_type": "code",
   "execution_count": 37,
   "id": "08ec332b",
   "metadata": {},
   "outputs": [
    {
     "ename": "LoadError",
     "evalue": "UndefVarError: c not defined",
     "output_type": "error",
     "traceback": [
      "UndefVarError: c not defined",
      "",
      "Stacktrace:",
      " [1] top-level scope",
      "   @ In[37]:1",
      " [2] eval",
      "   @ ./boot.jl:373 [inlined]",
      " [3] include_string(mapexpr::typeof(REPL.softscope), mod::Module, code::String, filename::String)",
      "   @ Base ./loading.jl:1196"
     ]
    },
    {
     "ename": "LoadError",
     "evalue": "UndefVarError: c not defined",
     "output_type": "error",
     "traceback": [
      "UndefVarError: c not defined",
      "",
      "Stacktrace:",
      " [1] top-level scope",
      "   @ In[37]:1",
      " [2] eval",
      "   @ ./boot.jl:373 [inlined]",
      " [3] include_string(mapexpr::typeof(REPL.softscope), mod::Module, code::String, filename::String)",
      "   @ Base ./loading.jl:1196"
     ]
    }
   ],
   "source": [
    "geta(:description,c)"
   ]
  },
  {
   "cell_type": "markdown",
   "id": "1890c398",
   "metadata": {},
   "source": [
    "## Next Steps\n",
    "\n",
    "1. Generate interfaces for AI assisted operator data sources\n",
    "2. Describe these data sources using the CHAKRA description language"
   ]
  },
  {
   "cell_type": "code",
   "execution_count": 38,
   "id": "cd4422ef",
   "metadata": {},
   "outputs": [
    {
     "ename": "LoadError",
     "evalue": "cannot assign a value to variable Core.Pair from module Main",
     "output_type": "error",
     "traceback": [
      "cannot assign a value to variable Core.Pair from module Main",
      "",
      "Stacktrace:",
      " [1] top-level scope",
      "   @ In[38]:23",
      " [2] eval",
      "   @ ./boot.jl:373 [inlined]",
      " [3] include_string(mapexpr::typeof(REPL.softscope), mod::Module, code::String, filename::String)",
      "   @ Base ./loading.jl:1196"
     ]
    },
    {
     "ename": "LoadError",
     "evalue": "cannot assign a value to variable Core.Pair from module Main",
     "output_type": "error",
     "traceback": [
      "cannot assign a value to variable Core.Pair from module Main",
      "",
      "Stacktrace:",
      " [1] top-level scope",
      "   @ In[38]:23",
      " [2] eval",
      "   @ ./boot.jl:373 [inlined]",
      " [3] include_string(mapexpr::typeof(REPL.softscope), mod::Module, code::String, filename::String)",
      "   @ Base ./loading.jl:1196"
     ]
    }
   ],
   "source": [
    "abstract type READ{T} end\n",
    "abstract type STATE{T} end\n",
    "\n",
    "abstract type PROP end\n",
    "abstract type PROOF end\n",
    "\n",
    "struct Eq{T} <: PROP\n",
    "    x::T \n",
    "    y::T\n",
    "end\n",
    "\n",
    "struct Refl{T} <: PROOF\n",
    "    x::T\n",
    "end\n",
    "\n",
    "gettype(x::Refl{T}) where T = Eq(x.x,x.x)\n",
    "\n",
    "struct CONJ <: PROP\n",
    "    left::PROP\n",
    "    right::PROP\n",
    "end\n",
    "\n",
    "struct Pair <: PROOF\n",
    "    left::PROOF\n",
    "    right::PROOF\n",
    "end\n",
    "\n",
    "gettype(x::Pair) = CONJ(gettype(x.left),gettype(x.right))\n",
    "\n",
    "abstract type HPROP end\n",
    "\n",
    "struct HLIFT <: HPROP\n",
    "    p::PROP\n",
    "end\n",
    "\n",
    "(h::HLIFT)(s)::P where P<: PROP = h.p"
   ]
  }
 ],
 "metadata": {
  "kernelspec": {
   "display_name": "Julia 1.7.3",
   "language": "julia",
   "name": "julia-1.7"
  },
  "language_info": {
   "file_extension": ".jl",
   "mimetype": "application/julia",
   "name": "julia",
   "version": "1.7.3"
  }
 },
 "nbformat": 4,
 "nbformat_minor": 5
}
