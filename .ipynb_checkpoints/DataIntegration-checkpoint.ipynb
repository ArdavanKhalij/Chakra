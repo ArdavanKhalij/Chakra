{
 "cells": [
  {
   "cell_type": "markdown",
   "id": "b35f70ff",
   "metadata": {},
   "source": [
    "# Data Integration with CHAKRA"
   ]
  },
  {
   "cell_type": "markdown",
   "id": "6a329dfd",
   "metadata": {},
   "source": [
    "## Import CHAKRA library"
   ]
  },
  {
   "cell_type": "code",
   "execution_count": 1,
   "id": "55b99306",
   "metadata": {},
   "outputs": [],
   "source": [
    "include(\"src/Chakra.jl\")\n",
    "using Main.Chakra"
   ]
  },
  {
   "cell_type": "markdown",
   "id": "4ef09752",
   "metadata": {},
   "source": [
    "## Implement an interface for a data source S1\n",
    "\n",
    "- Module S1 is CHAKRA data source.\n",
    "- It uses the Chakra reference implementation.\n",
    "- It defines an attribute A whose type is Int.\n",
    "- Its data content is a simple hierarchy containing one constituent Id(1)=>{:A=>10}"
   ]
  },
  {
   "cell_type": "code",
   "execution_count": 2,
   "id": "f5dfa600",
   "metadata": {},
   "outputs": [
    {
     "data": {
      "text/plain": [
       "Main.S1"
      ]
     },
     "execution_count": 2,
     "metadata": {},
     "output_type": "execute_result"
    }
   ],
   "source": [
    "module S1\n",
    "\n",
    "using Main.Chakra\n",
    "\n",
    "Chakra.@Reference Int\n",
    "\n",
    "@DefineAttribute :A Int\n",
    "\n",
    "__data__ = ins(Id(1),seta(:A,10,agg(Constituent)),emp(Hierarchy))\n",
    "\n",
    "end"
   ]
  },
  {
   "cell_type": "code",
   "execution_count": 3,
   "id": "88900637",
   "metadata": {},
   "outputs": [
    {
     "data": {
      "text/plain": [
       "true"
      ]
     },
     "execution_count": 3,
     "metadata": {},
     "output_type": "execute_result"
    }
   ],
   "source": [
    "Chakra.isdatasource(S1)"
   ]
  },
  {
   "cell_type": "markdown",
   "id": "74df1aa3",
   "metadata": {},
   "source": [
    "- The type of S1's data is S1.Hierarchy.\n",
    "- S1.Hierarchy is a subtype of Chakra.Hierarchy."
   ]
  },
  {
   "cell_type": "code",
   "execution_count": 4,
   "id": "2f92a728",
   "metadata": {},
   "outputs": [
    {
     "data": {
      "text/plain": [
       "Main.S1.Hierarchy"
      ]
     },
     "execution_count": 4,
     "metadata": {},
     "output_type": "execute_result"
    }
   ],
   "source": [
    "typeof(S1.__data__)"
   ]
  },
  {
   "cell_type": "code",
   "execution_count": 5,
   "id": "e8009c4c",
   "metadata": {},
   "outputs": [
    {
     "data": {
      "text/plain": [
       "true"
      ]
     },
     "execution_count": 5,
     "metadata": {},
     "output_type": "execute_result"
    }
   ],
   "source": [
    "S1.__data__ isa Chakra.Hierarchy"
   ]
  },
  {
   "cell_type": "markdown",
   "id": "4caea524",
   "metadata": {},
   "source": [
    "- S1 defines methods for the generic Chakra functions."
   ]
  },
  {
   "cell_type": "code",
   "execution_count": 6,
   "id": "84d95615",
   "metadata": {},
   "outputs": [
    {
     "data": {
      "text/plain": [
       "1-element Vector{Main.S1.Id}:\n",
       " Main.S1.Id(1)"
      ]
     },
     "execution_count": 6,
     "metadata": {},
     "output_type": "execute_result"
    }
   ],
   "source": [
    "dom(S1)"
   ]
  },
  {
   "cell_type": "markdown",
   "id": "4ea4b7bc",
   "metadata": {},
   "source": [
    "Similarly, `cts` takes a hierarchy and returns a list of Id-Constituent pairs. "
   ]
  },
  {
   "cell_type": "code",
   "execution_count": 7,
   "id": "ff3f2726",
   "metadata": {},
   "outputs": [
    {
     "data": {
      "text/plain": [
       "1-element Vector{Main.S1.Id}:\n",
       " Main.S1.Id(1)"
      ]
     },
     "execution_count": 7,
     "metadata": {},
     "output_type": "execute_result"
    }
   ],
   "source": [
    "cts(S1)"
   ]
  },
  {
   "cell_type": "markdown",
   "id": "f1d2c0dd",
   "metadata": {},
   "source": [
    "`fnd` takes and id and a hierarchy and returns the constituent bound to that id. "
   ]
  },
  {
   "cell_type": "code",
   "execution_count": 8,
   "id": "03ad5b9f",
   "metadata": {},
   "outputs": [
    {
     "data": {
      "text/plain": [
       "Main.S1.Constituent(Dict{Symbol, Any}(:A => 10), Dict{Symbol, Any}(), Main.S1.Id[])"
      ]
     },
     "execution_count": 8,
     "metadata": {},
     "output_type": "execute_result"
    }
   ],
   "source": [
    "c1 = fnd(S1.Id(1),S1)"
   ]
  },
  {
   "cell_type": "markdown",
   "id": "31e1cee8",
   "metadata": {},
   "source": [
    "If an identifier is not present in a hierarchy, `fnd` will return None. "
   ]
  },
  {
   "cell_type": "code",
   "execution_count": 9,
   "id": "ed7452a5",
   "metadata": {},
   "outputs": [
    {
     "data": {
      "text/plain": [
       "Main.Chakra.None()"
      ]
     },
     "execution_count": 9,
     "metadata": {},
     "output_type": "execute_result"
    }
   ],
   "source": [
    "fnd(S1.Id(2),S1)"
   ]
  },
  {
   "cell_type": "markdown",
   "id": "0b8a9766",
   "metadata": {},
   "source": [
    "We can also extract attribute values from constituents. The attributes defined on a Chakra representation can be listed: (TODO: implement a proper function for this.)"
   ]
  },
  {
   "cell_type": "code",
   "execution_count": 10,
   "id": "db3977b8",
   "metadata": {},
   "outputs": [
    {
     "data": {
      "text/html": [
       "# 3 methods for generic function <b>__attributes__</b>:<ul><li> __attributes__(a::<b>Symbol</b>) in Main.S1 at <a href=\"https://github.com/nick-harley/Chakra/tree/80d5b62afbfb561095436ede9e8ae6c0c5f9f69b//src/Chakra.jl#L384\" target=\"_blank\">/Users/nick/Chakra/src/Chakra.jl:384</a></li> <li> __attributes__(::<b>Val{:A}</b>) in Main.S1 at <a href=\"https://github.com/nick-harley/Chakra/tree/80d5b62afbfb561095436ede9e8ae6c0c5f9f69b//src/Chakra.jl#L392\" target=\"_blank\">/Users/nick/Chakra/src/Chakra.jl:392</a></li> <li> __attributes__(::<b>Val{a}</b>)<i> where a</i> in Main.S1 at <a href=\"https://github.com/nick-harley/Chakra/tree/80d5b62afbfb561095436ede9e8ae6c0c5f9f69b//src/Chakra.jl#L381\" target=\"_blank\">/Users/nick/Chakra/src/Chakra.jl:381</a></li> </ul>"
      ],
      "text/plain": [
       "# 3 methods for generic function \"__attributes__\":\n",
       "[1] __attributes__(a::Symbol) in Main.S1 at /Users/nick/Chakra/src/Chakra.jl:384\n",
       "[2] __attributes__(::Val{:A}) in Main.S1 at /Users/nick/Chakra/src/Chakra.jl:392\n",
       "[3] __attributes__(::Val{a}) where a in Main.S1 at /Users/nick/Chakra/src/Chakra.jl:381"
      ]
     },
     "execution_count": 10,
     "metadata": {},
     "output_type": "execute_result"
    }
   ],
   "source": [
    "methods(S1.__attributes__)"
   ]
  },
  {
   "cell_type": "markdown",
   "id": "bb0eadba",
   "metadata": {},
   "source": [
    "`geta` takes a symbol representing an attribute name and a constituent and returns the value "
   ]
  },
  {
   "cell_type": "code",
   "execution_count": 11,
   "id": "a5bab6a9",
   "metadata": {},
   "outputs": [
    {
     "data": {
      "text/plain": [
       "10"
      ]
     },
     "execution_count": 11,
     "metadata": {},
     "output_type": "execute_result"
    }
   ],
   "source": [
    "geta(:A,c1)"
   ]
  },
  {
   "cell_type": "markdown",
   "id": "22b631e1",
   "metadata": {},
   "source": [
    "`geta` can also be applied to an id and a hierarchy. This is defined as fnd(x) >=> geta(a). "
   ]
  },
  {
   "cell_type": "code",
   "execution_count": 12,
   "id": "b81a7613",
   "metadata": {},
   "outputs": [
    {
     "data": {
      "text/plain": [
       "10"
      ]
     },
     "execution_count": 12,
     "metadata": {},
     "output_type": "execute_result"
    }
   ],
   "source": [
    "geta(\"Main.S1.A\",S1.Id(1),S1)"
   ]
  },
  {
   "cell_type": "markdown",
   "id": "75509991",
   "metadata": {},
   "source": [
    "If a constituent has no value for an attribute, or if the constituent does not exist, `geta` will return None."
   ]
  },
  {
   "cell_type": "code",
   "execution_count": 13,
   "id": "3251086b",
   "metadata": {},
   "outputs": [
    {
     "data": {
      "text/plain": [
       "Main.Chakra.None()"
      ]
     },
     "execution_count": 13,
     "metadata": {},
     "output_type": "execute_result"
    }
   ],
   "source": [
    "geta(\"Main.S1.A\",S1.Id(2),S1)"
   ]
  },
  {
   "cell_type": "markdown",
   "id": "28281dc5",
   "metadata": {},
   "source": [
    "Trying to get attributes which have not been defined throws an error. "
   ]
  },
  {
   "cell_type": "code",
   "execution_count": 14,
   "id": "1ce2c4ee",
   "metadata": {},
   "outputs": [
    {
     "ename": "LoadError",
     "evalue": "Attribute B is not defined in module Main.S1.",
     "output_type": "error",
     "traceback": [
      "Attribute B is not defined in module Main.S1.",
      "",
      "Stacktrace:",
      " [1] error(s::String)",
      "   @ Base ./error.jl:33",
      " [2] __attributes__(#unused#::Val{:B})",
      "   @ Main.S1 ~/Chakra/src/Chakra.jl:381",
      " [3] __attributes__(a::Symbol)",
      "   @ Main.S1 ~/Chakra/src/Chakra.jl:384",
      " [4] Attribute",
      "   @ ~/Chakra/src/Chakra.jl:387 [inlined]",
      " [5] geta(a::Symbol, c::Main.S1.Constituent)",
      "   @ Main.S1 ~/Chakra/src/Chakra.jl:446",
      " [6] top-level scope",
      "   @ In[14]:1",
      " [7] eval",
      "   @ ./boot.jl:373 [inlined]",
      " [8] include_string(mapexpr::typeof(REPL.softscope), mod::Module, code::String, filename::String)",
      "   @ Base ./loading.jl:1196"
     ]
    }
   ],
   "source": [
    "geta(:B,c1)"
   ]
  },
  {
   "cell_type": "code",
   "execution_count": 15,
   "id": "48e748a2",
   "metadata": {},
   "outputs": [
    {
     "ename": "LoadError",
     "evalue": "Name Main.S1.B is not defined globally.",
     "output_type": "error",
     "traceback": [
      "Name Main.S1.B is not defined globally.",
      "",
      "Stacktrace:",
      " [1] error(s::String)",
      "   @ Base ./error.jl:33",
      " [2] __attributes__(#unused#::Val{Symbol(\"Main.S1.B\")})",
      "   @ Main.Chakra ~/Chakra/src/Chakra.jl:108",
      " [3] __attributes__(n::Symbol)",
      "   @ Main.Chakra ~/Chakra/src/Chakra.jl:110",
      " [4] __attributes__",
      "   @ ~/Chakra/src/Chakra.jl:111 [inlined]",
      " [5] geta(a::String, c::Main.S1.Constituent)",
      "   @ Main.Chakra ~/Chakra/src/Chakra.jl:301",
      " [6] top-level scope",
      "   @ In[15]:1",
      " [7] eval",
      "   @ ./boot.jl:373 [inlined]",
      " [8] include_string(mapexpr::typeof(REPL.softscope), mod::Module, code::String, filename::String)",
      "   @ Base ./loading.jl:1196"
     ]
    }
   ],
   "source": [
    "geta(\"Main.S1.B\",c1)"
   ]
  },
  {
   "cell_type": "markdown",
   "id": "d3f78cc4",
   "metadata": {},
   "source": [
    "## Implement a second data source interface S2\n",
    "\n",
    "- S2 is a second Chakra data source.\n",
    "- Again, it uses the reference implementation.\n",
    "- It defines an attribtue B whose type is B.\n",
    "- Its data content is a simple hierarchy containing one constituent Id(\"Two\")=>{:B=>B(99)}"
   ]
  },
  {
   "cell_type": "code",
   "execution_count": 16,
   "id": "e4d0c040",
   "metadata": {},
   "outputs": [
    {
     "data": {
      "text/plain": [
       "true"
      ]
     },
     "execution_count": 16,
     "metadata": {},
     "output_type": "execute_result"
    }
   ],
   "source": [
    "module S2\n",
    "\n",
    "using Main.Chakra\n",
    "\n",
    "Chakra.@Reference String\n",
    "\n",
    "struct B\n",
    "    value::Int\n",
    "end\n",
    "\n",
    "@DefineAttribute(:B,B)\n",
    "\n",
    "__data__ = ins(Id(\"Two\"),seta(:B,B(99),agg(Id)),emp(Hierarchy))\n",
    "\n",
    "end\n",
    "Chakra.isdatasource(S2)"
   ]
  },
  {
   "cell_type": "code",
   "execution_count": 17,
   "id": "432c3784",
   "metadata": {},
   "outputs": [
    {
     "data": {
      "text/plain": [
       "1-element Vector{Main.S2.Id}:\n",
       " Main.S2.Id(\"Two\")"
      ]
     },
     "execution_count": 17,
     "metadata": {},
     "output_type": "execute_result"
    }
   ],
   "source": [
    "dom(S2)"
   ]
  },
  {
   "cell_type": "code",
   "execution_count": 18,
   "id": "26fb7457",
   "metadata": {},
   "outputs": [
    {
     "data": {
      "text/plain": [
       "Main.S2.Constituent(Dict{Symbol, Any}(:B => Main.S2.B(99)), Dict{Symbol, Any}(), Main.S2.Id[])"
      ]
     },
     "execution_count": 18,
     "metadata": {},
     "output_type": "execute_result"
    }
   ],
   "source": [
    "c2 = fnd(S2.Id(\"Two\"),S2)"
   ]
  },
  {
   "cell_type": "code",
   "execution_count": 19,
   "id": "fbec2b5d",
   "metadata": {},
   "outputs": [
    {
     "data": {
      "text/plain": [
       "Main.S2.B(99)"
      ]
     },
     "execution_count": 19,
     "metadata": {},
     "output_type": "execute_result"
    }
   ],
   "source": [
    "geta(:B,c2)"
   ]
  },
  {
   "cell_type": "markdown",
   "id": "a9156220",
   "metadata": {},
   "source": [
    "## Linking data sources S1 and S2 using a third data source S3\n",
    "\n",
    "Module S3 is a data source which which encapsulates S1 and S2."
   ]
  },
  {
   "cell_type": "code",
   "execution_count": 20,
   "id": "e9c4b2e0",
   "metadata": {},
   "outputs": [
    {
     "data": {
      "text/plain": [
       "Main.S3"
      ]
     },
     "execution_count": 20,
     "metadata": {},
     "output_type": "execute_result"
    }
   ],
   "source": [
    "module S3\n",
    "\n",
    "using Main.Chakra\n",
    "\n",
    "using Main.S1, Main.S2\n",
    "\n",
    "Chakra.@Reference Symbol [S1,S2]\n",
    "\n",
    "@DefineProperty(:TYPE,String)\n",
    "\n",
    "__data__ = ins(Id(:a),setp(:TYPE,\"BinaryAssociation\",agg(ID_TYPES[S1.Id(1),S2.Id(\"Two\")])),emp(Hierarchy))\n",
    "\n",
    "end"
   ]
  },
  {
   "cell_type": "markdown",
   "id": "b5292fd0",
   "metadata": {},
   "source": [
    "- Hierarchies in S3 exist on top of the hierarchies from S1 and S2. \n",
    "- S3 hierarchies are implicitly unioned with the data content of S1 and S2"
   ]
  },
  {
   "cell_type": "code",
   "execution_count": 21,
   "id": "bb080423",
   "metadata": {},
   "outputs": [
    {
     "data": {
      "text/plain": [
       "false"
      ]
     },
     "execution_count": 21,
     "metadata": {},
     "output_type": "execute_result"
    }
   ],
   "source": [
    "isemp(emp(S3.Hierarchy))"
   ]
  },
  {
   "cell_type": "markdown",
   "id": "5b910db9",
   "metadata": {},
   "source": [
    "S3 hierarchy destructors will dispatch to S1.data and S2.data. Calling cts and dom on S3 hierarchies returns not only the constituents defined in S3 but also those defined in S1.data and S2.data. Similarly, calling fnd on S3 hierarchies will dispatch according to the type of the identifier passed. "
   ]
  },
  {
   "cell_type": "code",
   "execution_count": 22,
   "id": "58fa1fc9",
   "metadata": {},
   "outputs": [
    {
     "data": {
      "text/plain": [
       "3-element Vector{Union{Main.S1.Id, Main.S2.Id, Main.S3.Id}}:\n",
       " Main.S3.Id(:a)\n",
       " Main.S2.Id(\"Two\")\n",
       " Main.S1.Id(1)"
      ]
     },
     "execution_count": 22,
     "metadata": {},
     "output_type": "execute_result"
    }
   ],
   "source": [
    "cts(S3)"
   ]
  },
  {
   "cell_type": "code",
   "execution_count": 23,
   "id": "1333fc27",
   "metadata": {},
   "outputs": [
    {
     "data": {
      "text/plain": [
       "Main.S3.Constituent(Dict{Symbol, Any}(), Dict{Symbol, Any}(:TYPE => \"BinaryAssociation\"), Union{Main.S1.Id, Main.S2.Id, Main.S3.Id}[Main.S1.Id(1), Main.S2.Id(\"Two\")])"
      ]
     },
     "execution_count": 23,
     "metadata": {},
     "output_type": "execute_result"
    }
   ],
   "source": [
    "c3 = fnd(S3.Id(:a),S3)"
   ]
  },
  {
   "cell_type": "code",
   "execution_count": 24,
   "id": "61f830eb",
   "metadata": {},
   "outputs": [
    {
     "data": {
      "text/plain": [
       "Main.S1.Constituent(Dict{Symbol, Any}(:A => 10), Dict{Symbol, Any}(), Main.S1.Id[])"
      ]
     },
     "execution_count": 24,
     "metadata": {},
     "output_type": "execute_result"
    }
   ],
   "source": [
    "fnd(S1.Id(1),S3)"
   ]
  },
  {
   "cell_type": "code",
   "execution_count": 25,
   "id": "2e3cc6f9",
   "metadata": {},
   "outputs": [
    {
     "data": {
      "text/plain": [
       "Main.S2.Constituent(Dict{Symbol, Any}(:B => Main.S2.B(99)), Dict{Symbol, Any}(), Main.S2.Id[])"
      ]
     },
     "execution_count": 25,
     "metadata": {},
     "output_type": "execute_result"
    }
   ],
   "source": [
    "fnd(S2.Id(\"Two\"),S3)"
   ]
  },
  {
   "cell_type": "markdown",
   "id": "35175821",
   "metadata": {},
   "source": [
    "Operations derived from the Chakra interface can be generically applied to data from S3, leaving dispatch to the compiler. "
   ]
  },
  {
   "cell_type": "code",
   "execution_count": 26,
   "id": "95b10b31",
   "metadata": {},
   "outputs": [
    {
     "data": {
      "text/plain": [
       "2-element Vector{Union{Main.S1.Id, Main.S2.Id, Main.S3.Id}}:\n",
       " Main.S1.Id(1)\n",
       " Main.S2.Id(\"Two\")"
      ]
     },
     "execution_count": 26,
     "metadata": {},
     "output_type": "execute_result"
    }
   ],
   "source": [
    "ps = pts(c3)"
   ]
  },
  {
   "cell_type": "code",
   "execution_count": 27,
   "id": "bba4d697",
   "metadata": {},
   "outputs": [
    {
     "data": {
      "text/plain": [
       "2-element Vector{Any}:\n",
       " Main.S1.Constituent(Dict{Symbol, Any}(:A => 10), Dict{Symbol, Any}(), Main.S1.Id[])\n",
       " Main.S2.Constituent(Dict{Symbol, Any}(:B => Main.S2.B(99)), Dict{Symbol, Any}(), Main.S2.Id[])"
      ]
     },
     "execution_count": 27,
     "metadata": {},
     "output_type": "execute_result"
    }
   ],
   "source": [
    "s = sequence(ps,S3)"
   ]
  },
  {
   "cell_type": "code",
   "execution_count": 28,
   "id": "c9f46af0",
   "metadata": {},
   "outputs": [
    {
     "data": {
      "text/plain": [
       "2-element Vector{Any}:\n",
       " Main.S1.Constituent(Dict{Symbol, Any}(:A => 10), Dict{Symbol, Any}(), Main.S1.Id[])\n",
       " Main.S2.Constituent(Dict{Symbol, Any}(:B => Main.S2.B(99)), Dict{Symbol, Any}(), Main.S2.Id[])"
      ]
     },
     "execution_count": 28,
     "metadata": {},
     "output_type": "execute_result"
    }
   ],
   "source": [
    "sequence(S3.Id(:a),S3)"
   ]
  },
  {
   "cell_type": "code",
   "execution_count": 29,
   "id": "f6fcdc04",
   "metadata": {},
   "outputs": [
    {
     "data": {
      "text/plain": [
       "Main.S1.Constituent(Dict{Symbol, Any}(:A => 10), Dict{Symbol, Any}(), Main.S1.Id[])"
      ]
     },
     "execution_count": 29,
     "metadata": {},
     "output_type": "execute_result"
    }
   ],
   "source": [
    "x = gethead(s)"
   ]
  },
  {
   "cell_type": "code",
   "execution_count": 30,
   "id": "1dabad83",
   "metadata": {},
   "outputs": [
    {
     "data": {
      "text/plain": [
       "10"
      ]
     },
     "execution_count": 30,
     "metadata": {},
     "output_type": "execute_result"
    }
   ],
   "source": [
    "geta(:A,x)"
   ]
  },
  {
   "cell_type": "code",
   "execution_count": 31,
   "id": "d6ba3e05",
   "metadata": {},
   "outputs": [
    {
     "data": {
      "text/plain": [
       "Pair{Union{Main.S1.Id, Main.S2.Id, Main.S3.Id}, Union{Main.S1.Constituent, Main.S2.Constituent, Main.S3.Constituent}}(Main.S3.Id(:a), Main.S3.Constituent(Dict{Symbol, Any}(), Dict{Symbol, Any}(:TYPE => \"BinaryAssociation\"), Union{Main.S1.Id, Main.S2.Id, Main.S3.Id}[Main.S1.Id(1), Main.S2.Id(\"Two\")]))"
      ]
     },
     "execution_count": 31,
     "metadata": {},
     "output_type": "execute_result"
    }
   ],
   "source": [
    "Chakra.peek(S3.__data__)"
   ]
  }
 ],
 "metadata": {
  "kernelspec": {
   "display_name": "Julia 1.7.3",
   "language": "julia",
   "name": "julia-1.7"
  },
  "language_info": {
   "file_extension": ".jl",
   "mimetype": "application/julia",
   "name": "julia",
   "version": "1.7.3"
  }
 },
 "nbformat": 4,
 "nbformat_minor": 5
}
