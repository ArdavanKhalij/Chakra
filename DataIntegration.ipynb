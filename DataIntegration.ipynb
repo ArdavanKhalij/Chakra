{
 "cells": [
  {
   "cell_type": "markdown",
   "id": "b35f70ff",
   "metadata": {},
   "source": [
    "# Data Integration with CHAKRA"
   ]
  },
  {
   "cell_type": "markdown",
   "id": "6a329dfd",
   "metadata": {},
   "source": [
    "## Import CHAKRA library"
   ]
  },
  {
   "cell_type": "code",
   "execution_count": 1,
   "id": "55b99306",
   "metadata": {},
   "outputs": [],
   "source": [
    "using Chakra"
   ]
  },
  {
   "cell_type": "markdown",
   "id": "4ef09752",
   "metadata": {},
   "source": [
    "## Implement an interface for a data source S1\n",
    "\n",
    "The interface must define the core CHAKRA types and operations."
   ]
  },
  {
   "cell_type": "code",
   "execution_count": 2,
   "id": "f5dfa600",
   "metadata": {},
   "outputs": [
    {
     "data": {
      "text/plain": [
       "Main.S1"
      ]
     },
     "execution_count": 2,
     "metadata": {},
     "output_type": "execute_result"
    }
   ],
   "source": [
    "module S1\n",
    "    using Chakra\n",
    "    Chakra.@Reference Int []\n",
    "    \n",
    "    # DEFINE ATTRIBUTES\n",
    "\n",
    "    Chakra.@Attribute(:A,Int)\n",
    "    Chakra.@Attribute(:B,String)\n",
    "\n",
    "    data = ins(Id(1),seta(:A,10,c()),emp(Hierarchy))\n",
    "\n",
    "end"
   ]
  },
  {
   "cell_type": "code",
   "execution_count": 3,
   "id": "2f92a728",
   "metadata": {},
   "outputs": [
    {
     "data": {
      "text/plain": [
       "Main.S1.Hierarchy"
      ]
     },
     "execution_count": 3,
     "metadata": {},
     "output_type": "execute_result"
    }
   ],
   "source": [
    "typeof(S1.data)"
   ]
  },
  {
   "cell_type": "code",
   "execution_count": 4,
   "id": "84d95615",
   "metadata": {},
   "outputs": [
    {
     "data": {
      "text/plain": [
       "1-element Vector{Main.S1.Id}:\n",
       " Main.S1.Id(1)"
      ]
     },
     "execution_count": 4,
     "metadata": {},
     "output_type": "execute_result"
    }
   ],
   "source": [
    "dom(S1.data)"
   ]
  },
  {
   "cell_type": "code",
   "execution_count": 5,
   "id": "a5bab6a9",
   "metadata": {},
   "outputs": [
    {
     "data": {
      "text/plain": [
       "10"
      ]
     },
     "execution_count": 5,
     "metadata": {},
     "output_type": "execute_result"
    }
   ],
   "source": [
    "geta(:A,S1.Id(1),S1.data)"
   ]
  },
  {
   "cell_type": "markdown",
   "id": "d3f78cc4",
   "metadata": {},
   "source": [
    "## Implement a second data source interface S2"
   ]
  },
  {
   "cell_type": "code",
   "execution_count": 6,
   "id": "e4d0c040",
   "metadata": {},
   "outputs": [
    {
     "data": {
      "text/plain": [
       "Main.S2"
      ]
     },
     "execution_count": 6,
     "metadata": {},
     "output_type": "execute_result"
    }
   ],
   "source": [
    "module S2\n",
    "    using Chakra\n",
    "    Chakra.@Reference Int []\n",
    "\n",
    "    data = ins(Id(2),seta(:B,\"Hello\",c()),emp(Hierarchy))\n",
    "\n",
    "end"
   ]
  },
  {
   "cell_type": "code",
   "execution_count": 7,
   "id": "432c3784",
   "metadata": {},
   "outputs": [
    {
     "data": {
      "text/plain": [
       "1-element Vector{Main.S2.Id}:\n",
       " Main.S2.Id(2)"
      ]
     },
     "execution_count": 7,
     "metadata": {},
     "output_type": "execute_result"
    }
   ],
   "source": [
    "dom(S2.data)"
   ]
  },
  {
   "cell_type": "code",
   "execution_count": 14,
   "id": "17120b41",
   "metadata": {},
   "outputs": [
    {
     "data": {
      "text/plain": [
       "\"Hello\""
      ]
     },
     "execution_count": 14,
     "metadata": {},
     "output_type": "execute_result"
    }
   ],
   "source": [
    "geta(:B,S2.Id(2),S2.data)"
   ]
  },
  {
   "cell_type": "markdown",
   "id": "a9156220",
   "metadata": {},
   "source": [
    "## Link data sources S1 and S2 using a third data source S3"
   ]
  },
  {
   "cell_type": "code",
   "execution_count": 15,
   "id": "e9c4b2e0",
   "metadata": {},
   "outputs": [
    {
     "name": "stderr",
     "output_type": "stream",
     "text": [
      "WARNING: replacing module S3.\n"
     ]
    },
    {
     "ename": "LoadError",
     "evalue": "MethodError: no method matching setp(::Symbol, ::String, ::Main.S3.Constituent)\n\u001b[0mClosest candidates are:\n\u001b[0m  setp(\u001b[91m::Prp{p, T}\u001b[39m, ::T, ::Main.S3.Constituent) where {p, T} at ~/Dropbox/Chakra/src/Chakra.jl:321\n\u001b[0m  setp(\u001b[91m::Chakra.PRP{p, T}\u001b[39m, ::T, \u001b[91m::Chakra.C\u001b[39m) where {p, T} at ~/Dropbox/Chakra/src/Chakra.jl:118\n\u001b[0m  setp(\u001b[91m::Prp{p, T}\u001b[39m, ::T, \u001b[91m::Main.S1.Constituent\u001b[39m) where {p, T} at ~/Dropbox/Chakra/src/Chakra.jl:321\n\u001b[0m  ...",
     "output_type": "error",
     "traceback": [
      "MethodError: no method matching setp(::Symbol, ::String, ::Main.S3.Constituent)\n\u001b[0mClosest candidates are:\n\u001b[0m  setp(\u001b[91m::Prp{p, T}\u001b[39m, ::T, ::Main.S3.Constituent) where {p, T} at ~/Dropbox/Chakra/src/Chakra.jl:321\n\u001b[0m  setp(\u001b[91m::Chakra.PRP{p, T}\u001b[39m, ::T, \u001b[91m::Chakra.C\u001b[39m) where {p, T} at ~/Dropbox/Chakra/src/Chakra.jl:118\n\u001b[0m  setp(\u001b[91m::Prp{p, T}\u001b[39m, ::T, \u001b[91m::Main.S1.Constituent\u001b[39m) where {p, T} at ~/Dropbox/Chakra/src/Chakra.jl:321\n\u001b[0m  ...",
      "",
      "Stacktrace:",
      " [1] top-level scope",
      "   @ In[15]:11",
      " [2] eval",
      "   @ ./boot.jl:373 [inlined]",
      " [3] include_string(mapexpr::typeof(REPL.softscope), mod::Module, code::String, filename::String)",
      "   @ Base ./loading.jl:1196"
     ]
    }
   ],
   "source": [
    "module S3\n",
    "    using Chakra\n",
    "    using Main.S1, Main.S2\n",
    "\n",
    "    Chakra.@Reference Int [S1,S2]\n",
    "    \n",
    "    Chakra.fnd(x::S1.Id,h::Hierarchy) = fnd(x,S1.data)\n",
    "    Chakra.fnd(x::S2.Id,h::Hierarchy) = fnd(x,S2.data)\n",
    "    Chakra.dom(h::Hierarchy) = vcat(reverse(collect(keys(h.constituents))),dom(S2.data),dom(S1.data))\n",
    "\n",
    "    data = ins(Id(3),setp(:TYPE,\"Rel\",c(DOMAIN[S1.Id(1),S2.Id(2)])),emp(Hierarchy))\n",
    "\n",
    "end"
   ]
  },
  {
   "cell_type": "code",
   "execution_count": 9,
   "id": "58fa1fc9",
   "metadata": {},
   "outputs": [
    {
     "ename": "LoadError",
     "evalue": "UndefVarError: data not defined",
     "output_type": "error",
     "traceback": [
      "UndefVarError: data not defined",
      "",
      "Stacktrace:",
      " [1] getproperty(x::Module, f::Symbol)",
      "   @ Base ./Base.jl:35",
      " [2] top-level scope",
      "   @ In[9]:1",
      " [3] eval",
      "   @ ./boot.jl:373 [inlined]",
      " [4] include_string(mapexpr::typeof(REPL.softscope), mod::Module, code::String, filename::String)",
      "   @ Base ./loading.jl:1196"
     ]
    }
   ],
   "source": [
    "dom(S3.data)"
   ]
  },
  {
   "cell_type": "code",
   "execution_count": 10,
   "id": "1333fc27",
   "metadata": {},
   "outputs": [
    {
     "ename": "LoadError",
     "evalue": "UndefVarError: data not defined",
     "output_type": "error",
     "traceback": [
      "UndefVarError: data not defined",
      "",
      "Stacktrace:",
      " [1] getproperty(x::Module, f::Symbol)",
      "   @ Base ./Base.jl:35",
      " [2] top-level scope",
      "   @ In[10]:1",
      " [3] eval",
      "   @ ./boot.jl:373 [inlined]",
      " [4] include_string(mapexpr::typeof(REPL.softscope), mod::Module, code::String, filename::String)",
      "   @ Base ./loading.jl:1196"
     ]
    }
   ],
   "source": [
    "o = fnd(S3.Id(3),S3.data)"
   ]
  },
  {
   "cell_type": "code",
   "execution_count": 11,
   "id": "95b10b31",
   "metadata": {},
   "outputs": [
    {
     "ename": "LoadError",
     "evalue": "UndefVarError: o not defined",
     "output_type": "error",
     "traceback": [
      "UndefVarError: o not defined",
      "",
      "Stacktrace:",
      " [1] top-level scope",
      "   @ In[11]:1",
      " [2] eval",
      "   @ ./boot.jl:373 [inlined]",
      " [3] include_string(mapexpr::typeof(REPL.softscope), mod::Module, code::String, filename::String)",
      "   @ Base ./loading.jl:1196"
     ]
    }
   ],
   "source": [
    "l = pts(o)"
   ]
  },
  {
   "cell_type": "code",
   "execution_count": 12,
   "id": "bba4d697",
   "metadata": {},
   "outputs": [
    {
     "ename": "LoadError",
     "evalue": "UndefVarError: data not defined",
     "output_type": "error",
     "traceback": [
      "UndefVarError: data not defined",
      "",
      "Stacktrace:",
      " [1] getproperty(x::Module, f::Symbol)",
      "   @ Base ./Base.jl:35",
      " [2] top-level scope",
      "   @ In[12]:1",
      " [3] eval",
      "   @ ./boot.jl:373 [inlined]",
      " [4] include_string(mapexpr::typeof(REPL.softscope), mod::Module, code::String, filename::String)",
      "   @ Base ./loading.jl:1196"
     ]
    }
   ],
   "source": [
    "sequence(S3.Id(3),S3.data)"
   ]
  },
  {
   "cell_type": "code",
   "execution_count": 13,
   "id": "c9f46af0",
   "metadata": {},
   "outputs": [
    {
     "ename": "LoadError",
     "evalue": "UndefVarError: data not defined",
     "output_type": "error",
     "traceback": [
      "UndefVarError: data not defined",
      "",
      "Stacktrace:",
      " [1] getproperty(x::Module, f::Symbol)",
      "   @ Base ./Base.jl:35",
      " [2] top-level scope",
      "   @ In[13]:1",
      " [3] eval",
      "   @ ./boot.jl:373 [inlined]",
      " [4] include_string(mapexpr::typeof(REPL.softscope), mod::Module, code::String, filename::String)",
      "   @ Base ./loading.jl:1196"
     ]
    }
   ],
   "source": [
    "sequence(l,S3.data)"
   ]
  }
 ],
 "metadata": {
  "kernelspec": {
   "display_name": "Julia 1.7.3",
   "language": "julia",
   "name": "julia-1.7"
  },
  "language_info": {
   "file_extension": ".jl",
   "mimetype": "application/julia",
   "name": "julia",
   "version": "1.7.3"
  }
 },
 "nbformat": 4,
 "nbformat_minor": 5
}
