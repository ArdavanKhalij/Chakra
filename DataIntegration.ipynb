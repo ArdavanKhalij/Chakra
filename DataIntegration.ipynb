{
 "cells": [
  {
   "cell_type": "markdown",
   "id": "b35f70ff",
   "metadata": {},
   "source": [
    "# Data Integration with CHAKRA"
   ]
  },
  {
   "cell_type": "markdown",
   "id": "6a329dfd",
   "metadata": {},
   "source": [
    "## Import CHAKRA library"
   ]
  },
  {
   "cell_type": "code",
   "execution_count": 1,
   "id": "55b99306",
   "metadata": {},
   "outputs": [
    {
     "name": "stderr",
     "output_type": "stream",
     "text": [
      "┌ Info: Precompiling Chakra [23337c43-347c-4169-b193-f31a84c326bf]\n",
      "└ @ Base loading.jl:1423\n"
     ]
    }
   ],
   "source": [
    "using Chakra"
   ]
  },
  {
   "cell_type": "markdown",
   "id": "4ef09752",
   "metadata": {},
   "source": [
    "## Implement an interface for a data source S1\n",
    "\n",
    "The interface must define the core CHAKRA types and operations."
   ]
  },
  {
   "cell_type": "code",
   "execution_count": 2,
   "id": "f5dfa600",
   "metadata": {},
   "outputs": [
    {
     "data": {
      "text/plain": [
       "Main.S1"
      ]
     },
     "execution_count": 2,
     "metadata": {},
     "output_type": "execute_result"
    }
   ],
   "source": [
    "module S1\n",
    "    using Chakra\n",
    "    Chakra.@Reference Int []\n",
    "    \n",
    "    # DEFINE ATTRIBUTES\n",
    "\n",
    "    Chakra.@Attribute(:A,Int)\n",
    "    Chakra.@Attribute(:B,String)\n",
    "\n",
    "    o = Chakra.seta(Att(:A),10,c(Id[]))\n",
    "\n",
    "    data = Chakra.ins(Id(1),o,emp(Hierarchy))\n",
    "\n",
    "end"
   ]
  },
  {
   "cell_type": "code",
   "execution_count": 3,
   "id": "2f92a728",
   "metadata": {},
   "outputs": [
    {
     "data": {
      "text/plain": [
       "Main.S1.Hierarchy"
      ]
     },
     "execution_count": 3,
     "metadata": {},
     "output_type": "execute_result"
    }
   ],
   "source": [
    "typeof(S1.data)"
   ]
  },
  {
   "cell_type": "code",
   "execution_count": 4,
   "id": "84d95615",
   "metadata": {},
   "outputs": [
    {
     "data": {
      "text/plain": [
       "1-element Vector{Main.S1.Id}:\n",
       " Main.S1.Id(1)"
      ]
     },
     "execution_count": 4,
     "metadata": {},
     "output_type": "execute_result"
    }
   ],
   "source": [
    "dom(S1.data)"
   ]
  },
  {
   "cell_type": "code",
   "execution_count": 5,
   "id": "a5bab6a9",
   "metadata": {},
   "outputs": [
    {
     "data": {
      "text/plain": [
       "10"
      ]
     },
     "execution_count": 5,
     "metadata": {},
     "output_type": "execute_result"
    }
   ],
   "source": [
    "geta(:A,S1.Id(1),S1.data)"
   ]
  },
  {
   "cell_type": "markdown",
   "id": "d3f78cc4",
   "metadata": {},
   "source": [
    "## Implement a second data source interface S2"
   ]
  },
  {
   "cell_type": "code",
   "execution_count": 9,
   "id": "e4d0c040",
   "metadata": {},
   "outputs": [
    {
     "name": "stderr",
     "output_type": "stream",
     "text": [
      "WARNING: replacing module S2.\n"
     ]
    },
    {
     "data": {
      "text/plain": [
       "Main.S2"
      ]
     },
     "execution_count": 9,
     "metadata": {},
     "output_type": "execute_result"
    }
   ],
   "source": [
    "module S2\n",
    "    using Chakra\n",
    "    Chakra.@Reference Int []\n",
    "\n",
    "    data = Chakra.ins(Id(2),c(Id[]),emp(Hierarchy))\n",
    "\n",
    "end"
   ]
  },
  {
   "cell_type": "code",
   "execution_count": 10,
   "id": "432c3784",
   "metadata": {},
   "outputs": [
    {
     "data": {
      "text/plain": [
       "1-element Vector{Main.S2.Id}:\n",
       " Main.S2.Id(2)"
      ]
     },
     "execution_count": 10,
     "metadata": {},
     "output_type": "execute_result"
    }
   ],
   "source": [
    "dom(S2.data)"
   ]
  },
  {
   "cell_type": "markdown",
   "id": "a9156220",
   "metadata": {},
   "source": [
    "## Link data sources S1 and S2 using a third data source S3"
   ]
  },
  {
   "cell_type": "code",
   "execution_count": 11,
   "id": "e9c4b2e0",
   "metadata": {},
   "outputs": [
    {
     "data": {
      "text/plain": [
       "Main.S3"
      ]
     },
     "execution_count": 11,
     "metadata": {},
     "output_type": "execute_result"
    }
   ],
   "source": [
    "module S3\n",
    "    using Chakra\n",
    "    using Main.S1, Main.S2\n",
    "\n",
    "    Chakra.@Reference Int [S1,S2]\n",
    "    \n",
    "    Chakra.fnd(x::S1.Id,h::Hierarchy) = fnd(x,S1.data)\n",
    "    Chakra.fnd(x::S2.Id,h::Hierarchy) = fnd(x,S2.data)\n",
    "    Chakra.dom(h::Hierarchy) = vcat(collect(keys(h.constituents)),dom(S1.data),dom(S2.data))\n",
    "\n",
    "    data = Chakra.ins(Id(3),c(DOMAIN[S1.Id(1),S2.Id(2)]),emp(Hierarchy))\n",
    "\n",
    "end"
   ]
  },
  {
   "cell_type": "code",
   "execution_count": 12,
   "id": "58fa1fc9",
   "metadata": {},
   "outputs": [
    {
     "data": {
      "text/plain": [
       "3-element Vector{Any}:\n",
       " Main.S3.Id(3)\n",
       " Main.S1.Id(1)\n",
       " Main.S2.Id(2)"
      ]
     },
     "execution_count": 12,
     "metadata": {},
     "output_type": "execute_result"
    }
   ],
   "source": [
    "dom(S3.data)"
   ]
  },
  {
   "cell_type": "code",
   "execution_count": 13,
   "id": "1333fc27",
   "metadata": {},
   "outputs": [
    {
     "data": {
      "text/plain": [
       "Main.S3.Constituent(Dict{Symbol, Any}(), Dict{Symbol, Any}(), Union{Main.S1.Id, Main.S2.Id, Main.S3.Id}[Main.S1.Id(1), Main.S2.Id(2)])"
      ]
     },
     "execution_count": 13,
     "metadata": {},
     "output_type": "execute_result"
    }
   ],
   "source": [
    "o = fnd(S3.Id(3),S3.data)"
   ]
  },
  {
   "cell_type": "code",
   "execution_count": 14,
   "id": "95b10b31",
   "metadata": {},
   "outputs": [
    {
     "data": {
      "text/plain": [
       "2-element Vector{Union{Main.S1.Id, Main.S2.Id, Main.S3.Id}}:\n",
       " Main.S1.Id(1)\n",
       " Main.S2.Id(2)"
      ]
     },
     "execution_count": 14,
     "metadata": {},
     "output_type": "execute_result"
    }
   ],
   "source": [
    "l = pts(o)"
   ]
  },
  {
   "cell_type": "code",
   "execution_count": 15,
   "id": "bba4d697",
   "metadata": {},
   "outputs": [
    {
     "data": {
      "text/plain": [
       "2-element Vector{Any}:\n",
       " Main.S1.Constituent(Dict{Symbol, Any}(:A => 10), Dict{Symbol, Any}(), Main.S1.Id[])\n",
       " Main.S2.Constituent(Dict{Symbol, Any}(), Dict{Symbol, Any}(), Main.S2.Id[])"
      ]
     },
     "execution_count": 15,
     "metadata": {},
     "output_type": "execute_result"
    }
   ],
   "source": [
    "sequence(S3.Id(3),S3.data)"
   ]
  },
  {
   "cell_type": "code",
   "execution_count": 16,
   "id": "c9f46af0",
   "metadata": {},
   "outputs": [
    {
     "data": {
      "text/plain": [
       "2-element Vector{Any}:\n",
       " Main.S1.Constituent(Dict{Symbol, Any}(:A => 10), Dict{Symbol, Any}(), Main.S1.Id[])\n",
       " Main.S2.Constituent(Dict{Symbol, Any}(), Dict{Symbol, Any}(), Main.S2.Id[])"
      ]
     },
     "execution_count": 16,
     "metadata": {},
     "output_type": "execute_result"
    }
   ],
   "source": [
    "sequence(l,S3.data)"
   ]
  }
 ],
 "metadata": {
  "kernelspec": {
   "display_name": "Julia 1.7.3",
   "language": "julia",
   "name": "julia-1.7"
  },
  "language_info": {
   "file_extension": ".jl",
   "mimetype": "application/julia",
   "name": "julia",
   "version": "1.7.3"
  }
 },
 "nbformat": 4,
 "nbformat_minor": 5
}
