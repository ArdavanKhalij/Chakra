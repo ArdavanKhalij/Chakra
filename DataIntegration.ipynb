{
 "cells": [
  {
   "cell_type": "markdown",
   "id": "b35f70ff",
   "metadata": {},
   "source": [
    "# Data Integration with CHAKRA"
   ]
  },
  {
   "cell_type": "markdown",
   "id": "6a329dfd",
   "metadata": {},
   "source": [
    "## Import CHAKRA library"
   ]
  },
  {
   "cell_type": "code",
   "execution_count": 1,
   "id": "55b99306",
   "metadata": {},
   "outputs": [],
   "source": [
    "#using Chakra\n",
    "include(\"src/Chakra.jl\")\n",
    "using Main.Chakra"
   ]
  },
  {
   "cell_type": "markdown",
   "id": "4ef09752",
   "metadata": {},
   "source": [
    "## Implement an interface for a data source S1\n",
    "\n",
    "The module `S1` is CHAKRA data source. `Chakra.@Reference Int []` is a macro which loads the reference implementation of the Chakra interface. It defines three types, `Id`, `Constituent` and `Hierarchy`, and extends the generic Chakra interface functions with methods specific to these types. The first argument `Int` is the type used to encode ids. The second argument is a list of data source modules which will be encapsulated by `S1`. `@DefineAtt(:A,Int)` is a macro which defines an attribute named `:A` with type `Int`. `data` is the knowledge structure made available by the module. It is constructed using the constructor operations from the interface."
   ]
  },
  {
   "cell_type": "code",
   "execution_count": 39,
   "id": "f5dfa600",
   "metadata": {},
   "outputs": [
    {
     "name": "stderr",
     "output_type": "stream",
     "text": [
      "WARNING: replacing module S1.\n"
     ]
    },
    {
     "data": {
      "text/plain": [
       "Main.S1"
      ]
     },
     "execution_count": 39,
     "metadata": {},
     "output_type": "execute_result"
    }
   ],
   "source": [
    "module S1\n",
    "\n",
    "using Main.Chakra\n",
    "\n",
    "Chakra.@Reference Int\n",
    "\n",
    "@DefineAttribute :A Int\n",
    "\n",
    "data = ins(Id(1),seta(:A,10,agg(Constituent)),emp(Hierarchy))\n",
    "\n",
    "end"
   ]
  },
  {
   "cell_type": "markdown",
   "id": "74df1aa3",
   "metadata": {},
   "source": [
    "The type of `S1.data` is `Main.S1.Hierarchy`. The type of Chakra data should be unique for a given data source."
   ]
  },
  {
   "cell_type": "code",
   "execution_count": 40,
   "id": "2f92a728",
   "metadata": {},
   "outputs": [
    {
     "data": {
      "text/plain": [
       "Main.S1.Hierarchy"
      ]
     },
     "execution_count": 40,
     "metadata": {},
     "output_type": "execute_result"
    }
   ],
   "source": [
    "typeof(S1.data)"
   ]
  },
  {
   "cell_type": "markdown",
   "id": "4caea524",
   "metadata": {},
   "source": [
    "We can use the generic Chakra functions to interface with the data. For example, `dom` takes a hierarchy and returns the list of identifiers which it defines."
   ]
  },
  {
   "cell_type": "code",
   "execution_count": 41,
   "id": "84d95615",
   "metadata": {},
   "outputs": [
    {
     "data": {
      "text/plain": [
       "1-element Vector{Main.S1.Id}:\n",
       " Main.S1.Id(1)"
      ]
     },
     "execution_count": 41,
     "metadata": {},
     "output_type": "execute_result"
    }
   ],
   "source": [
    "dom(S1.data)"
   ]
  },
  {
   "cell_type": "markdown",
   "id": "4ea4b7bc",
   "metadata": {},
   "source": [
    "Similarly, `cts` takes a hierarchy and returns a list of Id-Constituent pairs. "
   ]
  },
  {
   "cell_type": "code",
   "execution_count": 42,
   "id": "ff3f2726",
   "metadata": {},
   "outputs": [
    {
     "data": {
      "text/plain": [
       "1-element Vector{Pair{Main.S1.Id, Main.S1.Constituent}}:\n",
       " Main.S1.Id(1) => Main.S1.Constituent(Dict{Symbol, Any}(:A => 10), Dict{Symbol, Any}(), Main.S1.Id[])"
      ]
     },
     "execution_count": 42,
     "metadata": {},
     "output_type": "execute_result"
    }
   ],
   "source": [
    "cts(S1.data)"
   ]
  },
  {
   "cell_type": "markdown",
   "id": "f1d2c0dd",
   "metadata": {},
   "source": [
    "`fnd` takes and id and a hierarchy and returns the constituent bound to that id. "
   ]
  },
  {
   "cell_type": "code",
   "execution_count": 43,
   "id": "03ad5b9f",
   "metadata": {},
   "outputs": [
    {
     "data": {
      "text/plain": [
       "Main.S1.Constituent(Dict{Symbol, Any}(:A => 10), Dict{Symbol, Any}(), Main.S1.Id[])"
      ]
     },
     "execution_count": 43,
     "metadata": {},
     "output_type": "execute_result"
    }
   ],
   "source": [
    "c1 = fnd(S1.Id(1),S1.data)"
   ]
  },
  {
   "cell_type": "code",
   "execution_count": 44,
   "id": "ce658efc",
   "metadata": {},
   "outputs": [
    {
     "data": {
      "text/plain": [
       "Dict{Symbol, Any} with 1 entry:\n",
       "  :A => 10"
      ]
     },
     "execution_count": 44,
     "metadata": {},
     "output_type": "execute_result"
    }
   ],
   "source": [
    "c1.attributes"
   ]
  },
  {
   "cell_type": "markdown",
   "id": "31e1cee8",
   "metadata": {},
   "source": [
    "If an identifier is not present in a hierarchy, `fnd` will return None. "
   ]
  },
  {
   "cell_type": "code",
   "execution_count": 45,
   "id": "ed7452a5",
   "metadata": {},
   "outputs": [
    {
     "data": {
      "text/plain": [
       "Main.Chakra.None()"
      ]
     },
     "execution_count": 45,
     "metadata": {},
     "output_type": "execute_result"
    }
   ],
   "source": [
    "fnd(S1.Id(2),S1.data)"
   ]
  },
  {
   "cell_type": "markdown",
   "id": "0b8a9766",
   "metadata": {},
   "source": [
    "We can also extract attribute values from constituents. The attributes defined on a Chakra representation can be listed: (TODO: implement a proper function for this.)"
   ]
  },
  {
   "cell_type": "code",
   "execution_count": 52,
   "id": "db3977b8",
   "metadata": {},
   "outputs": [
    {
     "data": {
      "text/html": [
       "# 3 methods for generic function <b>__attributes__</b>:<ul><li> __attributes__(a::<b>Symbol</b>) in Main.S1 at <a href=\"https://github.com/nick-harley/Chakra/tree/c3ba05b387f63f588a885306953271459497e08c//src/Chakra.jl#L374\" target=\"_blank\">/Users/nick/Dropbox/Chakra/src/Chakra.jl:374</a></li> <li> __attributes__(::<b>Val{:A}</b>) in Main.S1 at <a href=\"https://github.com/nick-harley/Chakra/tree/c3ba05b387f63f588a885306953271459497e08c//src/Chakra.jl#L382\" target=\"_blank\">/Users/nick/Dropbox/Chakra/src/Chakra.jl:382</a></li> <li> __attributes__(::<b>Val{a}</b>)<i> where a</i> in Main.S1 at <a href=\"https://github.com/nick-harley/Chakra/tree/c3ba05b387f63f588a885306953271459497e08c//src/Chakra.jl#L371\" target=\"_blank\">/Users/nick/Dropbox/Chakra/src/Chakra.jl:371</a></li> </ul>"
      ],
      "text/plain": [
       "# 3 methods for generic function \"__attributes__\":\n",
       "[1] __attributes__(a::Symbol) in Main.S1 at /Users/nick/Dropbox/Chakra/src/Chakra.jl:374\n",
       "[2] __attributes__(::Val{:A}) in Main.S1 at /Users/nick/Dropbox/Chakra/src/Chakra.jl:382\n",
       "[3] __attributes__(::Val{a}) where a in Main.S1 at /Users/nick/Dropbox/Chakra/src/Chakra.jl:371"
      ]
     },
     "execution_count": 52,
     "metadata": {},
     "output_type": "execute_result"
    }
   ],
   "source": [
    "methods(S1.__attributes__)"
   ]
  },
  {
   "cell_type": "markdown",
   "id": "bb0eadba",
   "metadata": {},
   "source": [
    "`geta` takes a symbol representing an attribute name and a constituent and returns the value "
   ]
  },
  {
   "cell_type": "code",
   "execution_count": 53,
   "id": "a5bab6a9",
   "metadata": {},
   "outputs": [
    {
     "data": {
      "text/plain": [
       "10"
      ]
     },
     "execution_count": 53,
     "metadata": {},
     "output_type": "execute_result"
    }
   ],
   "source": [
    "geta(:A,c1)"
   ]
  },
  {
   "cell_type": "markdown",
   "id": "22b631e1",
   "metadata": {},
   "source": [
    "`geta` can also be applied to an id and a hierarchy. This is defined as fnd(x) >=> geta(a). "
   ]
  },
  {
   "cell_type": "code",
   "execution_count": 54,
   "id": "b81a7613",
   "metadata": {},
   "outputs": [
    {
     "data": {
      "text/plain": [
       "10"
      ]
     },
     "execution_count": 54,
     "metadata": {},
     "output_type": "execute_result"
    }
   ],
   "source": [
    "geta(\"Main.S1.A\",S1.Id(1),S1.data)"
   ]
  },
  {
   "cell_type": "markdown",
   "id": "75509991",
   "metadata": {},
   "source": [
    "If a constituent has no value for an attribute, or if the constituent does not exist, `geta` will return None."
   ]
  },
  {
   "cell_type": "code",
   "execution_count": 55,
   "id": "3251086b",
   "metadata": {},
   "outputs": [
    {
     "data": {
      "text/plain": [
       "Main.Chakra.None()"
      ]
     },
     "execution_count": 55,
     "metadata": {},
     "output_type": "execute_result"
    }
   ],
   "source": [
    "geta(\"Main.S1.A\",S1.Id(2),S1.data)"
   ]
  },
  {
   "cell_type": "markdown",
   "id": "28281dc5",
   "metadata": {},
   "source": [
    "Trying to get attributes which have not been defined throws an error. "
   ]
  },
  {
   "cell_type": "code",
   "execution_count": 56,
   "id": "1ce2c4ee",
   "metadata": {},
   "outputs": [
    {
     "ename": "LoadError",
     "evalue": "Attribute B is not defined in module Main.S1.",
     "output_type": "error",
     "traceback": [
      "Attribute B is not defined in module Main.S1.",
      "",
      "Stacktrace:",
      " [1] error(s::String)",
      "   @ Base ./error.jl:33",
      " [2] __attributes__(#unused#::Val{:B})",
      "   @ Main.S1 ~/Dropbox/Chakra/src/Chakra.jl:371",
      " [3] __attributes__(a::Symbol)",
      "   @ Main.S1 ~/Dropbox/Chakra/src/Chakra.jl:374",
      " [4] Attribute",
      "   @ ~/Dropbox/Chakra/src/Chakra.jl:377 [inlined]",
      " [5] geta(a::Symbol, c::Main.S1.Constituent)",
      "   @ Main.S1 ~/Dropbox/Chakra/src/Chakra.jl:436",
      " [6] top-level scope",
      "   @ In[56]:1",
      " [7] eval",
      "   @ ./boot.jl:373 [inlined]",
      " [8] include_string(mapexpr::typeof(REPL.softscope), mod::Module, code::String, filename::String)",
      "   @ Base ./loading.jl:1196"
     ]
    }
   ],
   "source": [
    "geta(:B,c1)"
   ]
  },
  {
   "cell_type": "code",
   "execution_count": 57,
   "id": "28f12907",
   "metadata": {},
   "outputs": [
    {
     "ename": "LoadError",
     "evalue": "Name Main.S1.B is not defined globally.",
     "output_type": "error",
     "traceback": [
      "Name Main.S1.B is not defined globally.",
      "",
      "Stacktrace:",
      " [1] error(s::String)",
      "   @ Base ./error.jl:33",
      " [2] __attributes__(#unused#::Val{Symbol(\"Main.S1.B\")})",
      "   @ Main.Chakra ~/Dropbox/Chakra/src/Chakra.jl:108",
      " [3] __attributes__(n::Symbol)",
      "   @ Main.Chakra ~/Dropbox/Chakra/src/Chakra.jl:110",
      " [4] __attributes__",
      "   @ ~/Dropbox/Chakra/src/Chakra.jl:111 [inlined]",
      " [5] geta(a::String, c::Main.S1.Constituent)",
      "   @ Main.Chakra ~/Dropbox/Chakra/src/Chakra.jl:293",
      " [6] top-level scope",
      "   @ In[57]:1",
      " [7] eval",
      "   @ ./boot.jl:373 [inlined]",
      " [8] include_string(mapexpr::typeof(REPL.softscope), mod::Module, code::String, filename::String)",
      "   @ Base ./loading.jl:1196"
     ]
    }
   ],
   "source": [
    "geta(\"Main.S1.B\",c1)"
   ]
  },
  {
   "cell_type": "markdown",
   "id": "d3f78cc4",
   "metadata": {},
   "source": [
    "## Implement a second data source interface S2"
   ]
  },
  {
   "cell_type": "code",
   "execution_count": 58,
   "id": "e4d0c040",
   "metadata": {},
   "outputs": [
    {
     "name": "stderr",
     "output_type": "stream",
     "text": [
      "WARNING: replacing module S2.\n"
     ]
    },
    {
     "data": {
      "text/plain": [
       "Main.S2"
      ]
     },
     "execution_count": 58,
     "metadata": {},
     "output_type": "execute_result"
    }
   ],
   "source": [
    "module S2\n",
    "\n",
    "using Main.Chakra\n",
    "\n",
    "Chakra.@Reference String\n",
    "\n",
    "struct B\n",
    "    value::Int\n",
    "end\n",
    "\n",
    "@DefineAttribute(:B,B)\n",
    "\n",
    "data = ins(Id(\"Two\"),seta(:B,B(99),agg(Id)),emp(Hierarchy))\n",
    "\n",
    "end"
   ]
  },
  {
   "cell_type": "code",
   "execution_count": 59,
   "id": "432c3784",
   "metadata": {},
   "outputs": [
    {
     "data": {
      "text/plain": [
       "1-element Vector{Main.S2.Id}:\n",
       " Main.S2.Id(\"Two\")"
      ]
     },
     "execution_count": 59,
     "metadata": {},
     "output_type": "execute_result"
    }
   ],
   "source": [
    "dom(S2.data)"
   ]
  },
  {
   "cell_type": "code",
   "execution_count": 60,
   "id": "26fb7457",
   "metadata": {},
   "outputs": [
    {
     "data": {
      "text/plain": [
       "Main.S2.Constituent(Dict{Symbol, Any}(:B => Main.S2.B(99)), Dict{Symbol, Any}(), Main.S2.Id[])"
      ]
     },
     "execution_count": 60,
     "metadata": {},
     "output_type": "execute_result"
    }
   ],
   "source": [
    "c2 = fnd(S2.Id(\"Two\"),S2.data)"
   ]
  },
  {
   "cell_type": "code",
   "execution_count": 61,
   "id": "fbec2b5d",
   "metadata": {},
   "outputs": [
    {
     "data": {
      "text/plain": [
       "Main.S2.B(99)"
      ]
     },
     "execution_count": 61,
     "metadata": {},
     "output_type": "execute_result"
    }
   ],
   "source": [
    "geta(:B,c2)"
   ]
  },
  {
   "cell_type": "markdown",
   "id": "a9156220",
   "metadata": {},
   "source": [
    "## Link data sources S1 and S2 using a third data source S3\n",
    "\n",
    "Module S3 is a data source which which encapsulates S1 and S2."
   ]
  },
  {
   "cell_type": "code",
   "execution_count": 62,
   "id": "e9c4b2e0",
   "metadata": {},
   "outputs": [
    {
     "name": "stderr",
     "output_type": "stream",
     "text": [
      "WARNING: replacing module S3.\n"
     ]
    },
    {
     "data": {
      "text/plain": [
       "Main.S3"
      ]
     },
     "execution_count": 62,
     "metadata": {},
     "output_type": "execute_result"
    }
   ],
   "source": [
    "module S3\n",
    "\n",
    "using Main.Chakra\n",
    "\n",
    "using Main.S1, Main.S2\n",
    "\n",
    "Chakra.@Reference Symbol [S1,S2]\n",
    "\n",
    "@DefineProperty(:TYPE,String)\n",
    "\n",
    "data = ins(Id(:a),setp(:TYPE,\"BinaryAssociation\",agg(ID_TYPES[S1.Id(1),S2.Id(\"Two\")])),emp(Hierarchy))\n",
    "\n",
    "end"
   ]
  },
  {
   "cell_type": "markdown",
   "id": "7fb5762b",
   "metadata": {},
   "source": [
    "Hierarchies built using the S3 constructors can be thought of as existing on top of the hierarchies defined in S1 and S2. As a result, calling on isemp on emp(S3.Hierarchy) does not return true as S1.data and S2.data are not empty. "
   ]
  },
  {
   "cell_type": "code",
   "execution_count": 63,
   "id": "4803cae3",
   "metadata": {},
   "outputs": [
    {
     "data": {
      "text/plain": [
       "false"
      ]
     },
     "execution_count": 63,
     "metadata": {},
     "output_type": "execute_result"
    }
   ],
   "source": [
    "isemp(emp(S3.Hierarchy))"
   ]
  },
  {
   "cell_type": "markdown",
   "id": "9e7bff52",
   "metadata": {},
   "source": [
    "S3 hierarchy destructors will dispatch to S1.data and S2.data. Calling cts and dom on S3 hierarchies returns not only the constituents defined in S3 but also those defined in S1.data and S2.data. Similarly, calling fnd on S3 hierarchies will dispatch according to the type of the identifier passed. "
   ]
  },
  {
   "cell_type": "code",
   "execution_count": 64,
   "id": "58fa1fc9",
   "metadata": {},
   "outputs": [
    {
     "data": {
      "text/plain": [
       "3-element Vector{Pair{Union{Main.S1.Id, Main.S2.Id, Main.S3.Id}, Union{Main.S1.Constituent, Main.S2.Constituent, Main.S3.Constituent}}}:\n",
       "    Main.S3.Id(:a) => Main.S3.Constituent(Dict{Symbol, Any}(), Dict{Symbol, Any}(:TYPE => \"BinaryAssociation\"), Union{Main.S1.Id, Main.S2.Id, Main.S3.Id}[Main.S1.Id(1), Main.S2.Id(\"Two\")])\n",
       " Main.S2.Id(\"Two\") => Main.S2.Constituent(Dict{Symbol, Any}(:B => Main.S2.B(99)), Dict{Symbol, Any}(), Main.S2.Id[])\n",
       "     Main.S1.Id(1) => Main.S1.Constituent(Dict{Symbol, Any}(:A => 10), Dict{Symbol, Any}(), Main.S1.Id[])"
      ]
     },
     "execution_count": 64,
     "metadata": {},
     "output_type": "execute_result"
    }
   ],
   "source": [
    "cts(S3.data)"
   ]
  },
  {
   "cell_type": "code",
   "execution_count": 65,
   "id": "1333fc27",
   "metadata": {},
   "outputs": [
    {
     "data": {
      "text/plain": [
       "Main.S3.Constituent(Dict{Symbol, Any}(), Dict{Symbol, Any}(:TYPE => \"BinaryAssociation\"), Union{Main.S1.Id, Main.S2.Id, Main.S3.Id}[Main.S1.Id(1), Main.S2.Id(\"Two\")])"
      ]
     },
     "execution_count": 65,
     "metadata": {},
     "output_type": "execute_result"
    }
   ],
   "source": [
    "c3 = fnd(S3.Id(:a),S3.data)"
   ]
  },
  {
   "cell_type": "code",
   "execution_count": 66,
   "id": "61f830eb",
   "metadata": {},
   "outputs": [
    {
     "data": {
      "text/plain": [
       "Main.S1.Constituent(Dict{Symbol, Any}(:A => 10), Dict{Symbol, Any}(), Main.S1.Id[])"
      ]
     },
     "execution_count": 66,
     "metadata": {},
     "output_type": "execute_result"
    }
   ],
   "source": [
    "fnd(S1.Id(1),S3.data)"
   ]
  },
  {
   "cell_type": "code",
   "execution_count": 67,
   "id": "4ab20e62",
   "metadata": {},
   "outputs": [
    {
     "data": {
      "text/plain": [
       "Main.S2.Constituent(Dict{Symbol, Any}(:B => Main.S2.B(99)), Dict{Symbol, Any}(), Main.S2.Id[])"
      ]
     },
     "execution_count": 67,
     "metadata": {},
     "output_type": "execute_result"
    }
   ],
   "source": [
    "fnd(S2.Id(\"Two\"),S3.data)"
   ]
  },
  {
   "cell_type": "markdown",
   "id": "dc691471",
   "metadata": {},
   "source": [
    "Operations derived from the Chakra interface can be generically applied to data from S3, leaving dispatch to the compiler. "
   ]
  },
  {
   "cell_type": "code",
   "execution_count": 68,
   "id": "95b10b31",
   "metadata": {},
   "outputs": [
    {
     "data": {
      "text/plain": [
       "2-element Vector{Union{Main.S1.Id, Main.S2.Id, Main.S3.Id}}:\n",
       " Main.S1.Id(1)\n",
       " Main.S2.Id(\"Two\")"
      ]
     },
     "execution_count": 68,
     "metadata": {},
     "output_type": "execute_result"
    }
   ],
   "source": [
    "ps = pts(c3)"
   ]
  },
  {
   "cell_type": "code",
   "execution_count": 69,
   "id": "bba4d697",
   "metadata": {},
   "outputs": [
    {
     "data": {
      "text/plain": [
       "2-element Vector{Any}:\n",
       " Main.S1.Constituent(Dict{Symbol, Any}(:A => 10), Dict{Symbol, Any}(), Main.S1.Id[])\n",
       " Main.S2.Constituent(Dict{Symbol, Any}(:B => Main.S2.B(99)), Dict{Symbol, Any}(), Main.S2.Id[])"
      ]
     },
     "execution_count": 69,
     "metadata": {},
     "output_type": "execute_result"
    }
   ],
   "source": [
    "s = sequence(ps,S3.data)"
   ]
  },
  {
   "cell_type": "code",
   "execution_count": 70,
   "id": "c9f46af0",
   "metadata": {},
   "outputs": [
    {
     "data": {
      "text/plain": [
       "2-element Vector{Any}:\n",
       " Main.S1.Constituent(Dict{Symbol, Any}(:A => 10), Dict{Symbol, Any}(), Main.S1.Id[])\n",
       " Main.S2.Constituent(Dict{Symbol, Any}(:B => Main.S2.B(99)), Dict{Symbol, Any}(), Main.S2.Id[])"
      ]
     },
     "execution_count": 70,
     "metadata": {},
     "output_type": "execute_result"
    }
   ],
   "source": [
    "sequence(S3.Id(:a),S3.data)"
   ]
  },
  {
   "cell_type": "code",
   "execution_count": 71,
   "id": "f6fcdc04",
   "metadata": {},
   "outputs": [
    {
     "data": {
      "text/plain": [
       "Main.S1.Constituent(Dict{Symbol, Any}(:A => 10), Dict{Symbol, Any}(), Main.S1.Id[])"
      ]
     },
     "execution_count": 71,
     "metadata": {},
     "output_type": "execute_result"
    }
   ],
   "source": [
    "x = gethead(s)"
   ]
  },
  {
   "cell_type": "code",
   "execution_count": 72,
   "id": "1dabad83",
   "metadata": {},
   "outputs": [
    {
     "data": {
      "text/plain": [
       "10"
      ]
     },
     "execution_count": 72,
     "metadata": {},
     "output_type": "execute_result"
    }
   ],
   "source": [
    "geta(:A,x)"
   ]
  },
  {
   "cell_type": "code",
   "execution_count": 73,
   "id": "0c7eab82",
   "metadata": {},
   "outputs": [
    {
     "data": {
      "text/plain": [
       "Pair{Union{Main.S1.Id, Main.S2.Id, Main.S3.Id}, Union{Main.S1.Constituent, Main.S2.Constituent, Main.S3.Constituent}}(Main.S3.Id(:a), Main.S3.Constituent(Dict{Symbol, Any}(), Dict{Symbol, Any}(:TYPE => \"BinaryAssociation\"), Union{Main.S1.Id, Main.S2.Id, Main.S3.Id}[Main.S1.Id(1), Main.S2.Id(\"Two\")]))"
      ]
     },
     "execution_count": 73,
     "metadata": {},
     "output_type": "execute_result"
    }
   ],
   "source": [
    "Chakra.peek(S3.data)"
   ]
  }
 ],
 "metadata": {
  "kernelspec": {
   "display_name": "Julia 1.7.3",
   "language": "julia",
   "name": "julia-1.7"
  },
  "language_info": {
   "file_extension": ".jl",
   "mimetype": "application/julia",
   "name": "julia",
   "version": "1.7.3"
  }
 },
 "nbformat": 4,
 "nbformat_minor": 5
}
