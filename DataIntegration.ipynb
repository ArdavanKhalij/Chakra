{
 "cells": [
  {
   "cell_type": "markdown",
   "id": "b35f70ff",
   "metadata": {},
   "source": [
    "# Data Integration with CHAKRA"
   ]
  },
  {
   "cell_type": "markdown",
   "id": "6a329dfd",
   "metadata": {},
   "source": [
    "## Import CHAKRA library"
   ]
  },
  {
   "cell_type": "code",
   "execution_count": 1,
   "id": "55b99306",
   "metadata": {},
   "outputs": [],
   "source": [
    "using Chakra\n",
    "#include(\"src/Chakra.jl\")\n",
    "#using Main.Chakra"
   ]
  },
  {
   "cell_type": "markdown",
   "id": "4ef09752",
   "metadata": {},
   "source": [
    "## Implement an interface for a data source S1\n",
    "\n",
    "The interface must define the core CHAKRA types and operations."
   ]
  },
  {
   "cell_type": "code",
   "execution_count": 2,
   "id": "f5dfa600",
   "metadata": {},
   "outputs": [
    {
     "data": {
      "text/plain": [
       "Main.S1"
      ]
     },
     "execution_count": 2,
     "metadata": {},
     "output_type": "execute_result"
    }
   ],
   "source": [
    "module S1\n",
    "    using Main.Chakra\n",
    "    Chakra.@Reference Int []\n",
    "    \n",
    "    # DEFINE ATTRIBUTES\n",
    "\n",
    "    @DefineAtt(:A,Int)\n",
    "\n",
    "    data = ins(Id(1),seta(Att(:A),10,agg(Id)),emp(Hierarchy))\n",
    "\n",
    "end"
   ]
  },
  {
   "cell_type": "code",
   "execution_count": 3,
   "id": "2f92a728",
   "metadata": {},
   "outputs": [
    {
     "data": {
      "text/plain": [
       "Main.S1.Hierarchy"
      ]
     },
     "execution_count": 3,
     "metadata": {},
     "output_type": "execute_result"
    }
   ],
   "source": [
    "typeof(S1.data)"
   ]
  },
  {
   "cell_type": "code",
   "execution_count": 4,
   "id": "84d95615",
   "metadata": {},
   "outputs": [
    {
     "data": {
      "text/plain": [
       "1-element Vector{Main.S1.Id}:\n",
       " Main.S1.Id(1)"
      ]
     },
     "execution_count": 4,
     "metadata": {},
     "output_type": "execute_result"
    }
   ],
   "source": [
    "dom(S1.data)"
   ]
  },
  {
   "cell_type": "code",
   "execution_count": 5,
   "id": "ff3f2726",
   "metadata": {},
   "outputs": [
    {
     "data": {
      "text/plain": [
       "1-element Vector{Pair{Main.S1.Id, Main.S1.Constituent}}:\n",
       " Main.S1.Id(1) => Main.S1.Constituent(Dict{Symbol, Any}(:A => 10), Dict{Symbol, Any}(), Main.S1.Id[])"
      ]
     },
     "execution_count": 5,
     "metadata": {},
     "output_type": "execute_result"
    }
   ],
   "source": [
    "cts(S1.data)"
   ]
  },
  {
   "cell_type": "code",
   "execution_count": 6,
   "id": "03ad5b9f",
   "metadata": {},
   "outputs": [
    {
     "data": {
      "text/plain": [
       "Main.S1.Constituent(Dict{Symbol, Any}(:A => 10), Dict{Symbol, Any}(), Main.S1.Id[])"
      ]
     },
     "execution_count": 6,
     "metadata": {},
     "output_type": "execute_result"
    }
   ],
   "source": [
    "c1 = fnd(S1.Id(1),S1.data)"
   ]
  },
  {
   "cell_type": "code",
   "execution_count": 7,
   "id": "ed7452a5",
   "metadata": {},
   "outputs": [
    {
     "data": {
      "text/plain": [
       "Main.Chakra.None()"
      ]
     },
     "execution_count": 7,
     "metadata": {},
     "output_type": "execute_result"
    }
   ],
   "source": [
    "fnd(S1.Id(2),S1.data)"
   ]
  },
  {
   "cell_type": "code",
   "execution_count": 8,
   "id": "db3977b8",
   "metadata": {},
   "outputs": [
    {
     "data": {
      "text/html": [
       "1-element Vector{Method}:<ul><li> __atyp__(::<b>Main.S1.AttName{:A}</b>) in Main.S1 at <a href=\"https://github.com/nick-harley/Chakra/tree/299df058e74e6085cea47ac027a462373fb64b00//src/Chakra.jl#L299\" target=\"_blank\">/Users/nick/Dropbox/Chakra/src/Chakra.jl:299</a></ul>"
      ],
      "text/plain": [
       "[1] __atyp__(::Main.S1.AttName{:A}) in Main.S1 at /Users/nick/Dropbox/Chakra/src/Chakra.jl:299"
      ]
     },
     "execution_count": 8,
     "metadata": {},
     "output_type": "execute_result"
    }
   ],
   "source": [
    "methods(S1.__atyp__)[2:end-1]"
   ]
  },
  {
   "cell_type": "code",
   "execution_count": 9,
   "id": "a5bab6a9",
   "metadata": {},
   "outputs": [
    {
     "data": {
      "text/plain": [
       "10"
      ]
     },
     "execution_count": 9,
     "metadata": {},
     "output_type": "execute_result"
    }
   ],
   "source": [
    "geta(:A,c1)"
   ]
  },
  {
   "cell_type": "code",
   "execution_count": 10,
   "id": "b81a7613",
   "metadata": {},
   "outputs": [
    {
     "data": {
      "text/plain": [
       "10"
      ]
     },
     "execution_count": 10,
     "metadata": {},
     "output_type": "execute_result"
    }
   ],
   "source": [
    "geta(:A,S1.Id(1),S1.data)"
   ]
  },
  {
   "cell_type": "code",
   "execution_count": 11,
   "id": "3251086b",
   "metadata": {},
   "outputs": [
    {
     "data": {
      "text/plain": [
       "Main.Chakra.None()"
      ]
     },
     "execution_count": 11,
     "metadata": {},
     "output_type": "execute_result"
    }
   ],
   "source": [
    "geta(:A,S1.Id(2),S1.data)"
   ]
  },
  {
   "cell_type": "code",
   "execution_count": 12,
   "id": "1ce2c4ee",
   "metadata": {},
   "outputs": [
    {
     "ename": "LoadError",
     "evalue": "Attribute B is not defined in module Main.S1.",
     "output_type": "error",
     "traceback": [
      "Attribute B is not defined in module Main.S1.",
      "",
      "Stacktrace:",
      " [1] error(s::String)",
      "   @ Base ./error.jl:33",
      " [2] __atyp__(#unused#::Main.S1.AttName{:B})",
      "   @ Main.S1 ~/Dropbox/Chakra/src/Chakra.jl:293",
      " [3] __atyp__(a::Symbol)",
      "   @ Main.S1 ~/Dropbox/Chakra/src/Chakra.jl:296",
      " [4] Att",
      "   @ ~/Dropbox/Chakra/src/Chakra.jl:306 [inlined]",
      " [5] geta(a::Symbol, c::Main.S1.Constituent)",
      "   @ Main.S1 ~/Dropbox/Chakra/src/Chakra.jl:365",
      " [6] top-level scope",
      "   @ In[12]:1",
      " [7] eval",
      "   @ ./boot.jl:373 [inlined]",
      " [8] include_string(mapexpr::typeof(REPL.softscope), mod::Module, code::String, filename::String)",
      "   @ Base ./loading.jl:1196"
     ]
    }
   ],
   "source": [
    "geta(:B,c1)"
   ]
  },
  {
   "cell_type": "markdown",
   "id": "d3f78cc4",
   "metadata": {},
   "source": [
    "## Implement a second data source interface S2"
   ]
  },
  {
   "cell_type": "code",
   "execution_count": 13,
   "id": "e4d0c040",
   "metadata": {},
   "outputs": [
    {
     "data": {
      "text/plain": [
       "Main.S2"
      ]
     },
     "execution_count": 13,
     "metadata": {},
     "output_type": "execute_result"
    }
   ],
   "source": [
    "module S2\n",
    "    using Main.Chakra\n",
    "    Chakra.@Reference Int []\n",
    "\n",
    "    @DefineAtt(:B,String)\n",
    "\n",
    "    data = ins(Id(2),seta(Att(:B),\"B Value\",agg(Id)),emp(Hierarchy))\n",
    "\n",
    "end"
   ]
  },
  {
   "cell_type": "code",
   "execution_count": 14,
   "id": "432c3784",
   "metadata": {},
   "outputs": [
    {
     "data": {
      "text/plain": [
       "1-element Vector{Main.S2.Id}:\n",
       " Main.S2.Id(2)"
      ]
     },
     "execution_count": 14,
     "metadata": {},
     "output_type": "execute_result"
    }
   ],
   "source": [
    "dom(S2.data)"
   ]
  },
  {
   "cell_type": "code",
   "execution_count": 15,
   "id": "26fb7457",
   "metadata": {},
   "outputs": [
    {
     "data": {
      "text/plain": [
       "Main.S2.Constituent(Dict{Symbol, Any}(:B => \"B Value\"), Dict{Symbol, Any}(), Main.S2.Id[])"
      ]
     },
     "execution_count": 15,
     "metadata": {},
     "output_type": "execute_result"
    }
   ],
   "source": [
    "c2 = fnd(S2.Id(2),S2.data)"
   ]
  },
  {
   "cell_type": "code",
   "execution_count": 16,
   "id": "fbec2b5d",
   "metadata": {},
   "outputs": [
    {
     "data": {
      "text/plain": [
       "\"B Value\""
      ]
     },
     "execution_count": 16,
     "metadata": {},
     "output_type": "execute_result"
    }
   ],
   "source": [
    "geta(:B,c2)"
   ]
  },
  {
   "cell_type": "markdown",
   "id": "a9156220",
   "metadata": {},
   "source": [
    "## Link data sources S1 and S2 using a third data source S3"
   ]
  },
  {
   "cell_type": "code",
   "execution_count": 17,
   "id": "e9c4b2e0",
   "metadata": {},
   "outputs": [
    {
     "data": {
      "text/plain": [
       "Main.S3"
      ]
     },
     "execution_count": 17,
     "metadata": {},
     "output_type": "execute_result"
    }
   ],
   "source": [
    "module S3\n",
    "    using Main.Chakra\n",
    "    using Main.S1, Main.S2\n",
    "\n",
    "    Chakra.@Reference Int [S1,S2]\n",
    "\n",
    "    @DefinePrp(:TYPE,String)\n",
    "    \n",
    "    Chakra.fnd(x::S1.Id,h::Hierarchy) = fnd(x,S1.data)\n",
    "    Chakra.fnd(x::S2.Id,h::Hierarchy) = fnd(x,S2.data)\n",
    "    Chakra.dom(h::Hierarchy) = vcat(reverse(collect(keys(h.constituents))),dom(S2.data),dom(S1.data))\n",
    "    Chakra.cts(h::Hierarchy) = vcat(reverse(collect(h.constituents)),cts(S2.data),cts(S1.data))\n",
    "\n",
    "    data = ins(Id(3),setp(Prp(:TYPE),\"Rel\",agg(DOMAIN[S1.Id(1),S2.Id(2)])),emp(Hierarchy))\n",
    "\n",
    "end"
   ]
  },
  {
   "cell_type": "code",
   "execution_count": 18,
   "id": "58fa1fc9",
   "metadata": {},
   "outputs": [
    {
     "data": {
      "text/plain": [
       "3-element Vector{Pair{Any, Any}}:\n",
       " Main.S3.Id(3) => Main.S3.Constituent(Dict{Symbol, Any}(), Dict{Symbol, Any}(:TYPE => \"Rel\"), Union{Main.S1.Id, Main.S2.Id, Main.S3.Id}[Main.S1.Id(1), Main.S2.Id(2)])\n",
       " Main.S2.Id(2) => Main.S2.Constituent(Dict{Symbol, Any}(:B => \"B Value\"), Dict{Symbol, Any}(), Main.S2.Id[])\n",
       " Main.S1.Id(1) => Main.S1.Constituent(Dict{Symbol, Any}(:A => 10), Dict{Symbol, Any}(), Main.S1.Id[])"
      ]
     },
     "execution_count": 18,
     "metadata": {},
     "output_type": "execute_result"
    }
   ],
   "source": [
    "cts(S3.data)"
   ]
  },
  {
   "cell_type": "code",
   "execution_count": 19,
   "id": "1333fc27",
   "metadata": {},
   "outputs": [
    {
     "data": {
      "text/plain": [
       "Main.S3.Constituent(Dict{Symbol, Any}(), Dict{Symbol, Any}(:TYPE => \"Rel\"), Union{Main.S1.Id, Main.S2.Id, Main.S3.Id}[Main.S1.Id(1), Main.S2.Id(2)])"
      ]
     },
     "execution_count": 19,
     "metadata": {},
     "output_type": "execute_result"
    }
   ],
   "source": [
    "c3 = fnd(S3.Id(3),S3.data)"
   ]
  },
  {
   "cell_type": "code",
   "execution_count": 20,
   "id": "61f830eb",
   "metadata": {},
   "outputs": [
    {
     "data": {
      "text/plain": [
       "Main.S1.Constituent(Dict{Symbol, Any}(:A => 10), Dict{Symbol, Any}(), Main.S1.Id[])"
      ]
     },
     "execution_count": 20,
     "metadata": {},
     "output_type": "execute_result"
    }
   ],
   "source": [
    "fnd(S1.Id(1),S3.data)"
   ]
  },
  {
   "cell_type": "code",
   "execution_count": 21,
   "id": "95b10b31",
   "metadata": {},
   "outputs": [
    {
     "data": {
      "text/plain": [
       "2-element Vector{Union{Main.S1.Id, Main.S2.Id, Main.S3.Id}}:\n",
       " Main.S1.Id(1)\n",
       " Main.S2.Id(2)"
      ]
     },
     "execution_count": 21,
     "metadata": {},
     "output_type": "execute_result"
    }
   ],
   "source": [
    "ps = pts(c3)"
   ]
  },
  {
   "cell_type": "code",
   "execution_count": 22,
   "id": "bba4d697",
   "metadata": {},
   "outputs": [
    {
     "data": {
      "text/plain": [
       "2-element Vector{Any}:\n",
       " Main.S1.Constituent(Dict{Symbol, Any}(:A => 10), Dict{Symbol, Any}(), Main.S1.Id[])\n",
       " Main.S2.Constituent(Dict{Symbol, Any}(:B => \"B Value\"), Dict{Symbol, Any}(), Main.S2.Id[])"
      ]
     },
     "execution_count": 22,
     "metadata": {},
     "output_type": "execute_result"
    }
   ],
   "source": [
    "s = sequence(ps,S3.data)"
   ]
  },
  {
   "cell_type": "code",
   "execution_count": 23,
   "id": "c9f46af0",
   "metadata": {},
   "outputs": [
    {
     "data": {
      "text/plain": [
       "2-element Vector{Any}:\n",
       " Main.S1.Constituent(Dict{Symbol, Any}(:A => 10), Dict{Symbol, Any}(), Main.S1.Id[])\n",
       " Main.S2.Constituent(Dict{Symbol, Any}(:B => \"B Value\"), Dict{Symbol, Any}(), Main.S2.Id[])"
      ]
     },
     "execution_count": 23,
     "metadata": {},
     "output_type": "execute_result"
    }
   ],
   "source": [
    "sequence(S3.Id(3),S3.data)"
   ]
  },
  {
   "cell_type": "code",
   "execution_count": 24,
   "id": "f6fcdc04",
   "metadata": {},
   "outputs": [
    {
     "data": {
      "text/plain": [
       "Main.S1.Constituent(Dict{Symbol, Any}(:A => 10), Dict{Symbol, Any}(), Main.S1.Id[])"
      ]
     },
     "execution_count": 24,
     "metadata": {},
     "output_type": "execute_result"
    }
   ],
   "source": [
    "x = gethead(s)"
   ]
  },
  {
   "cell_type": "code",
   "execution_count": 25,
   "id": "1dabad83",
   "metadata": {},
   "outputs": [
    {
     "data": {
      "text/plain": [
       "10"
      ]
     },
     "execution_count": 25,
     "metadata": {},
     "output_type": "execute_result"
    }
   ],
   "source": [
    "geta(:A,x)"
   ]
  }
 ],
 "metadata": {
  "kernelspec": {
   "display_name": "Julia 1.7.3",
   "language": "julia",
   "name": "julia-1.7"
  },
  "language_info": {
   "file_extension": ".jl",
   "mimetype": "application/julia",
   "name": "julia",
   "version": "1.7.3"
  }
 },
 "nbformat": 4,
 "nbformat_minor": 5
}
