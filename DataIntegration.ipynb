{
 "cells": [
  {
   "cell_type": "markdown",
   "id": "b35f70ff",
   "metadata": {},
   "source": [
    "# Data Integration with CHAKRA"
   ]
  },
  {
   "cell_type": "markdown",
   "id": "6a329dfd",
   "metadata": {},
   "source": [
    "## Import CHAKRA library"
   ]
  },
  {
   "cell_type": "code",
   "execution_count": 1,
   "id": "55b99306",
   "metadata": {},
   "outputs": [
    {
     "name": "stderr",
     "output_type": "stream",
     "text": [
      "┌ Info: Precompiling Chakra [23337c43-347c-4169-b193-f31a84c326bf]\n",
      "└ @ Base loading.jl:1423\n"
     ]
    }
   ],
   "source": [
    "using Chakra"
   ]
  },
  {
   "cell_type": "markdown",
   "id": "4ef09752",
   "metadata": {},
   "source": [
    "## Implement an interface for a data source S1\n",
    "\n",
    "The module `S1` is CHAKRA data source. `Chakra.@Reference Int []` is a macro which loads the reference implementation of the Chakra interface. It defines three types, `Id`, `Constituent` and `Hierarchy`, and extends the generic Chakra interface functions with methods specific to these types. The first argument `Int` is the type used to encode ids. The second argument is a list of data source modules which will be encapsulated by `S1`. `@DefineAtt(:A,Int)` is a macro which defines an attribute named `:A` with type `Int`. `data` is the knowledge structure made available by the module. It is constructed using the constructor operations from the interface."
   ]
  },
  {
   "cell_type": "code",
   "execution_count": 2,
   "id": "f5dfa600",
   "metadata": {},
   "outputs": [
    {
     "data": {
      "text/plain": [
       "Main.S1"
      ]
     },
     "execution_count": 2,
     "metadata": {},
     "output_type": "execute_result"
    }
   ],
   "source": [
    "module S1\n",
    "\n",
    "using Main.Chakra\n",
    "\n",
    "Chakra.@Reference Int\n",
    "\n",
    "@DefineAttribute :A Int\n",
    "\n",
    "data = ins(Id(1),seta(:A,10,agg(Constituent)),emp(Hierarchy))\n",
    "\n",
    "end"
   ]
  },
  {
   "cell_type": "markdown",
   "id": "74df1aa3",
   "metadata": {},
   "source": [
    "The type of `S1.data` is `Main.S1.Hierarchy`. The type of Chakra data should be unique for a given data source."
   ]
  },
  {
   "cell_type": "code",
   "execution_count": 3,
   "id": "2f92a728",
   "metadata": {},
   "outputs": [
    {
     "data": {
      "text/plain": [
       "Main.S1.Hierarchy"
      ]
     },
     "execution_count": 3,
     "metadata": {},
     "output_type": "execute_result"
    }
   ],
   "source": [
    "typeof(S1.data)"
   ]
  },
  {
   "cell_type": "markdown",
   "id": "4caea524",
   "metadata": {},
   "source": [
    "We can use the generic Chakra functions to interface with the data. For example, `dom` takes a hierarchy and returns the list of identifiers which it defines."
   ]
  },
  {
   "cell_type": "code",
   "execution_count": 4,
   "id": "84d95615",
   "metadata": {},
   "outputs": [
    {
     "data": {
      "text/plain": [
       "1-element Vector{Main.S1.Id}:\n",
       " Main.S1.Id(1)"
      ]
     },
     "execution_count": 4,
     "metadata": {},
     "output_type": "execute_result"
    }
   ],
   "source": [
    "dom(S1.data)"
   ]
  },
  {
   "cell_type": "markdown",
   "id": "4ea4b7bc",
   "metadata": {},
   "source": [
    "Similarly, `cts` takes a hierarchy and returns a list of Id-Constituent pairs. "
   ]
  },
  {
   "cell_type": "code",
   "execution_count": 5,
   "id": "ff3f2726",
   "metadata": {},
   "outputs": [
    {
     "data": {
      "text/plain": [
       "1-element Vector{Pair{Main.S1.Id, Main.S1.Constituent}}:\n",
       " Main.S1.Id(1) => Main.S1.Constituent(Dict{Symbol, Any}(:A => 10), Dict{Symbol, Any}(), Main.S1.Id[])"
      ]
     },
     "execution_count": 5,
     "metadata": {},
     "output_type": "execute_result"
    }
   ],
   "source": [
    "cts(S1.data)"
   ]
  },
  {
   "cell_type": "markdown",
   "id": "f1d2c0dd",
   "metadata": {},
   "source": [
    "`fnd` takes and id and a hierarchy and returns the constituent bound to that id. "
   ]
  },
  {
   "cell_type": "code",
   "execution_count": 6,
   "id": "03ad5b9f",
   "metadata": {},
   "outputs": [
    {
     "data": {
      "text/plain": [
       "Main.S1.Constituent(Dict{Symbol, Any}(:A => 10), Dict{Symbol, Any}(), Main.S1.Id[])"
      ]
     },
     "execution_count": 6,
     "metadata": {},
     "output_type": "execute_result"
    }
   ],
   "source": [
    "c1 = fnd(S1.Id(1),S1.data)"
   ]
  },
  {
   "cell_type": "code",
   "execution_count": null,
   "id": "607e65cd",
   "metadata": {},
   "outputs": [],
   "source": [
    "c1.attributes"
   ]
  },
  {
   "cell_type": "markdown",
   "id": "31e1cee8",
   "metadata": {},
   "source": [
    "If an identifier is not present in a hierarchy, `fnd` will return None. "
   ]
  },
  {
   "cell_type": "code",
   "execution_count": null,
   "id": "ed7452a5",
   "metadata": {},
   "outputs": [],
   "source": [
    "fnd(S1.Id(2),S1.data)"
   ]
  },
  {
   "cell_type": "markdown",
   "id": "0b8a9766",
   "metadata": {},
   "source": [
    "We can also extract attribute values from constituents. The attributes defined on a Chakra representation can be listed: (TODO: implement a proper function for this.)"
   ]
  },
  {
   "cell_type": "code",
   "execution_count": null,
   "id": "db3977b8",
   "metadata": {},
   "outputs": [],
   "source": [
    "methods(S1.__attributes__)"
   ]
  },
  {
   "cell_type": "markdown",
   "id": "bb0eadba",
   "metadata": {},
   "source": [
    "`geta` takes a symbol representing an attribute name and a constituent and returns the value "
   ]
  },
  {
   "cell_type": "code",
   "execution_count": null,
   "id": "a5bab6a9",
   "metadata": {},
   "outputs": [],
   "source": [
    "geta(:A,c1)"
   ]
  },
  {
   "cell_type": "markdown",
   "id": "22b631e1",
   "metadata": {},
   "source": [
    "`geta` can also be applied to an id and a hierarchy. This is defined as fnd(x) >=> geta(a). "
   ]
  },
  {
   "cell_type": "code",
   "execution_count": null,
   "id": "b81a7613",
   "metadata": {},
   "outputs": [],
   "source": [
    "geta(\"Main.S1.A\",S1.Id(1),S1.data)"
   ]
  },
  {
   "cell_type": "markdown",
   "id": "75509991",
   "metadata": {},
   "source": [
    "If a constituent has no value for an attribute, or if the constituent does not exist, `geta` will return None."
   ]
  },
  {
   "cell_type": "code",
   "execution_count": null,
   "id": "3251086b",
   "metadata": {},
   "outputs": [],
   "source": [
    "geta(\"Main.S1.A\",S1.Id(2),S1.data)"
   ]
  },
  {
   "cell_type": "markdown",
   "id": "28281dc5",
   "metadata": {},
   "source": [
    "Trying to get attributes which have not been defined throws an error. "
   ]
  },
  {
   "cell_type": "code",
   "execution_count": null,
   "id": "1ce2c4ee",
   "metadata": {},
   "outputs": [],
   "source": [
    "geta(:B,c1)"
   ]
  },
  {
   "cell_type": "code",
   "execution_count": null,
   "id": "48e748a2",
   "metadata": {},
   "outputs": [],
   "source": [
    "geta(\"Main.S1.B\",c1)"
   ]
  },
  {
   "cell_type": "markdown",
   "id": "d3f78cc4",
   "metadata": {},
   "source": [
    "## Implement a second data source interface S2"
   ]
  },
  {
   "cell_type": "code",
   "execution_count": null,
   "id": "e4d0c040",
   "metadata": {},
   "outputs": [],
   "source": [
    "module S2\n",
    "\n",
    "using Main.Chakra\n",
    "\n",
    "Chakra.@Reference String\n",
    "\n",
    "struct B\n",
    "    value::Int\n",
    "end\n",
    "\n",
    "@DefineAttribute(:B,B)\n",
    "\n",
    "data = ins(Id(\"Two\"),seta(:B,B(99),agg(Id)),emp(Hierarchy))\n",
    "\n",
    "end"
   ]
  },
  {
   "cell_type": "code",
   "execution_count": null,
   "id": "432c3784",
   "metadata": {},
   "outputs": [],
   "source": [
    "dom(S2.data)"
   ]
  },
  {
   "cell_type": "code",
   "execution_count": null,
   "id": "26fb7457",
   "metadata": {},
   "outputs": [],
   "source": [
    "c2 = fnd(S2.Id(\"Two\"),S2.data)"
   ]
  },
  {
   "cell_type": "code",
   "execution_count": null,
   "id": "fbec2b5d",
   "metadata": {},
   "outputs": [],
   "source": [
    "geta(:B,c2)"
   ]
  },
  {
   "cell_type": "markdown",
   "id": "a9156220",
   "metadata": {},
   "source": [
    "## Link data sources S1 and S2 using a third data source S3\n",
    "\n",
    "Module S3 is a data source which which encapsulates S1 and S2."
   ]
  },
  {
   "cell_type": "code",
   "execution_count": null,
   "id": "e9c4b2e0",
   "metadata": {},
   "outputs": [],
   "source": [
    "module S3\n",
    "\n",
    "using Main.Chakra\n",
    "\n",
    "using Main.S1, Main.S2\n",
    "\n",
    "Chakra.@Reference Symbol [S1,S2]\n",
    "\n",
    "@DefineProperty(:TYPE,String)\n",
    "\n",
    "data = ins(Id(:a),setp(:TYPE,\"BinaryAssociation\",agg(ID_TYPES[S1.Id(1),S2.Id(\"Two\")])),emp(Hierarchy))\n",
    "\n",
    "end"
   ]
  },
  {
   "cell_type": "markdown",
   "id": "b5292fd0",
   "metadata": {},
   "source": [
    "Hierarchies built using the S3 constructors can be thought of as existing on top of the hierarchies defined in S1 and S2. As a result, calling on isemp on emp(S3.Hierarchy) does not return true as S1.data and S2.data are not empty. "
   ]
  },
  {
   "cell_type": "code",
   "execution_count": null,
   "id": "bb080423",
   "metadata": {},
   "outputs": [],
   "source": [
    "isemp(emp(S3.Hierarchy))"
   ]
  },
  {
   "cell_type": "markdown",
   "id": "5b910db9",
   "metadata": {},
   "source": [
    "S3 hierarchy destructors will dispatch to S1.data and S2.data. Calling cts and dom on S3 hierarchies returns not only the constituents defined in S3 but also those defined in S1.data and S2.data. Similarly, calling fnd on S3 hierarchies will dispatch according to the type of the identifier passed. "
   ]
  },
  {
   "cell_type": "code",
   "execution_count": null,
   "id": "58fa1fc9",
   "metadata": {},
   "outputs": [],
   "source": [
    "cts(S3.data)"
   ]
  },
  {
   "cell_type": "code",
   "execution_count": null,
   "id": "1333fc27",
   "metadata": {},
   "outputs": [],
   "source": [
    "c3 = fnd(S3.Id(:a),S3.data)"
   ]
  },
  {
   "cell_type": "code",
   "execution_count": null,
   "id": "61f830eb",
   "metadata": {},
   "outputs": [],
   "source": [
    "fnd(S1.Id(1),S3.data)"
   ]
  },
  {
   "cell_type": "code",
   "execution_count": null,
   "id": "2e3cc6f9",
   "metadata": {},
   "outputs": [],
   "source": [
    "fnd(S2.Id(\"Two\"),S3.data)"
   ]
  },
  {
   "cell_type": "markdown",
   "id": "35175821",
   "metadata": {},
   "source": [
    "Operations derived from the Chakra interface can be generically applied to data from S3, leaving dispatch to the compiler. "
   ]
  },
  {
   "cell_type": "code",
   "execution_count": null,
   "id": "95b10b31",
   "metadata": {},
   "outputs": [],
   "source": [
    "ps = pts(c3)"
   ]
  },
  {
   "cell_type": "code",
   "execution_count": null,
   "id": "bba4d697",
   "metadata": {},
   "outputs": [],
   "source": [
    "s = sequence(ps,S3.data)"
   ]
  },
  {
   "cell_type": "code",
   "execution_count": null,
   "id": "c9f46af0",
   "metadata": {},
   "outputs": [],
   "source": [
    "sequence(S3.Id(:a),S3.data)"
   ]
  },
  {
   "cell_type": "code",
   "execution_count": null,
   "id": "f6fcdc04",
   "metadata": {},
   "outputs": [],
   "source": [
    "x = gethead(s)"
   ]
  },
  {
   "cell_type": "code",
   "execution_count": null,
   "id": "1dabad83",
   "metadata": {},
   "outputs": [],
   "source": [
    "geta(:A,x)"
   ]
  },
  {
   "cell_type": "code",
   "execution_count": null,
   "id": "d6ba3e05",
   "metadata": {},
   "outputs": [],
   "source": [
    "Chakra.peek(S3.data)"
   ]
  }
 ],
 "metadata": {
  "kernelspec": {
   "display_name": "Julia 1.7.3",
   "language": "julia",
   "name": "julia-1.7"
  },
  "language_info": {
   "file_extension": ".jl",
   "mimetype": "application/julia",
   "name": "julia",
   "version": "1.7.3"
  }
 },
 "nbformat": 4,
 "nbformat_minor": 5
}
