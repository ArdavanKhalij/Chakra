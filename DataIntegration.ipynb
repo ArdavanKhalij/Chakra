{
 "cells": [
  {
   "cell_type": "markdown",
   "id": "b35f70ff",
   "metadata": {},
   "source": [
    "# Data Integration with CHAKRA"
   ]
  },
  {
   "cell_type": "markdown",
   "id": "6a329dfd",
   "metadata": {},
   "source": [
    "## Import CHAKRA library"
   ]
  },
  {
   "cell_type": "code",
   "execution_count": 1,
   "id": "55b99306",
   "metadata": {},
   "outputs": [],
   "source": [
    "using Chakra"
   ]
  },
  {
   "cell_type": "markdown",
   "id": "4ef09752",
   "metadata": {},
   "source": [
    "## Implement an interface for a data source S1\n",
    "\n",
    "The interface must define the core CHAKRA types and operations."
   ]
  },
  {
   "cell_type": "code",
   "execution_count": 2,
   "id": "f5dfa600",
   "metadata": {},
   "outputs": [
    {
     "ename": "LoadError",
     "evalue": "UndefVarError: setp not defined",
     "output_type": "error",
     "traceback": [
      "UndefVarError: setp not defined",
      "",
      "Stacktrace:",
      " [1] getproperty(x::Module, f::Symbol)",
      "   @ Base ./Base.jl:35",
      " [2] top-level scope",
      "   @ ~/Dropbox/flanders-make/Ref.jl:40",
      " [3] eval",
      "   @ ./boot.jl:373 [inlined]",
      " [4] include_string(mapexpr::typeof(REPL.softscope), mod::Module, code::String, filename::String)",
      "   @ Base ./loading.jl:1196"
     ]
    }
   ],
   "source": [
    "module S1\n",
    "    using Chakra, DataStructures\n",
    "    include(\"Ref.jl\")\n",
    "    @REF Int []\n",
    "    \n",
    "    # DEFINE ATTRIBUTES\n",
    "\n",
    "    Chakra.@Attribute(:A,Int)\n",
    "    Chakra.@Attribute(:B,String)\n",
    "\n",
    "    o = Chakra.seta(Att(:A),10,c(Id[]))\n",
    "\n",
    "    data = Chakra.ins(Id(1),o,emp(Hierarchy))\n",
    "\n",
    "end"
   ]
  },
  {
   "cell_type": "code",
   "execution_count": 20,
   "id": "2f92a728",
   "metadata": {},
   "outputs": [
    {
     "data": {
      "text/plain": [
       "Main.S1.Hierarchy"
      ]
     },
     "execution_count": 20,
     "metadata": {},
     "output_type": "execute_result"
    }
   ],
   "source": [
    "typeof(S1.data)"
   ]
  },
  {
   "cell_type": "code",
   "execution_count": 21,
   "id": "84d95615",
   "metadata": {},
   "outputs": [
    {
     "data": {
      "text/plain": [
       "1-element Vector{Main.S1.Id}:\n",
       " Main.S1.Id(1)"
      ]
     },
     "execution_count": 21,
     "metadata": {},
     "output_type": "execute_result"
    }
   ],
   "source": [
    "dom(S1.data)"
   ]
  },
  {
   "cell_type": "code",
   "execution_count": 22,
   "id": "a5bab6a9",
   "metadata": {},
   "outputs": [
    {
     "data": {
      "text/plain": [
       "10"
      ]
     },
     "execution_count": 22,
     "metadata": {},
     "output_type": "execute_result"
    }
   ],
   "source": [
    "geta(:A,S1.Id(1),S1.data)"
   ]
  },
  {
   "cell_type": "markdown",
   "id": "d3f78cc4",
   "metadata": {},
   "source": [
    "## Implement a second data source interface S2"
   ]
  },
  {
   "cell_type": "code",
   "execution_count": 23,
   "id": "e4d0c040",
   "metadata": {},
   "outputs": [
    {
     "name": "stderr",
     "output_type": "stream",
     "text": [
      "WARNING: replacing module S2.\n"
     ]
    },
    {
     "data": {
      "text/plain": [
       "Main.S2"
      ]
     },
     "execution_count": 23,
     "metadata": {},
     "output_type": "execute_result"
    }
   ],
   "source": [
    "module S2\n",
    "    using Chakra, DataStructures\n",
    "    include(\"Ref.jl\")\n",
    "    @REF Int []\n",
    "\n",
    "    data = Chakra.ins!(Id(2),c(Id[]),emp(Hierarchy))\n",
    "\n",
    "end"
   ]
  },
  {
   "cell_type": "code",
   "execution_count": 24,
   "id": "432c3784",
   "metadata": {},
   "outputs": [
    {
     "data": {
      "text/plain": [
       "1-element Vector{Main.S2.Id}:\n",
       " Main.S2.Id(2)"
      ]
     },
     "execution_count": 24,
     "metadata": {},
     "output_type": "execute_result"
    }
   ],
   "source": [
    "dom(S2.data)"
   ]
  },
  {
   "cell_type": "markdown",
   "id": "a9156220",
   "metadata": {},
   "source": [
    "## Link data sources S1 and S2 using a third data source S3"
   ]
  },
  {
   "cell_type": "code",
   "execution_count": 25,
   "id": "1fb1494e",
   "metadata": {},
   "outputs": [
    {
     "data": {
      "text/plain": [
       "2-element Vector{DataType}:\n",
       " Main.S1.Id\n",
       " Main.S2.Id"
      ]
     },
     "execution_count": 25,
     "metadata": {},
     "output_type": "execute_result"
    }
   ],
   "source": [
    "[m.Id for m in [S1, S2]]"
   ]
  },
  {
   "cell_type": "code",
   "execution_count": 27,
   "id": "e9c4b2e0",
   "metadata": {},
   "outputs": [
    {
     "name": "stderr",
     "output_type": "stream",
     "text": [
      "WARNING: replacing module S3.\n"
     ]
    },
    {
     "data": {
      "text/plain": [
       "Main.S3"
      ]
     },
     "execution_count": 27,
     "metadata": {},
     "output_type": "execute_result"
    }
   ],
   "source": [
    "module S3\n",
    "    using Chakra, DataStructures\n",
    "    using Main.S1, Main.S2\n",
    "    \n",
    "    include(\"Ref.jl\")\n",
    "    @REF Int [S1,S2]\n",
    "    \n",
    "    Chakra.fnd(x::S1.Id,h::Hierarchy) = fnd(x,S1.data)\n",
    "    Chakra.fnd(x::S2.Id,h::Hierarchy) = fnd(x,S2.data)\n",
    "    Chakra.dom(h::Hierarchy) = vcat(collect(keys(h.constituents)),dom(S1.data),dom(S2.data))\n",
    "\n",
    "    data = Chakra.ins(Id(3),c(DOMAIN[S1.Id(1),S2.Id(2)]),emp(Hierarchy))\n",
    "\n",
    "end"
   ]
  },
  {
   "cell_type": "code",
   "execution_count": 28,
   "id": "58fa1fc9",
   "metadata": {},
   "outputs": [
    {
     "data": {
      "text/plain": [
       "3-element Vector{Any}:\n",
       " Main.S3.Id(3)\n",
       " Main.S1.Id(1)\n",
       " Main.S2.Id(2)"
      ]
     },
     "execution_count": 28,
     "metadata": {},
     "output_type": "execute_result"
    }
   ],
   "source": [
    "dom(S3.data)"
   ]
  },
  {
   "cell_type": "code",
   "execution_count": 29,
   "id": "1333fc27",
   "metadata": {},
   "outputs": [
    {
     "data": {
      "text/plain": [
       "Main.S3.Constituent(Dict{Symbol, Any}(), Dict{Symbol, Any}(), Union{Main.S1.Id, Main.S2.Id, Main.S3.Id}[Main.S1.Id(1), Main.S2.Id(2)])"
      ]
     },
     "execution_count": 29,
     "metadata": {},
     "output_type": "execute_result"
    }
   ],
   "source": [
    "o = fnd(S3.Id(3),S3.data)"
   ]
  },
  {
   "cell_type": "code",
   "execution_count": 30,
   "id": "95b10b31",
   "metadata": {},
   "outputs": [
    {
     "data": {
      "text/plain": [
       "2-element Vector{Union{Main.S1.Id, Main.S2.Id, Main.S3.Id}}:\n",
       " Main.S1.Id(1)\n",
       " Main.S2.Id(2)"
      ]
     },
     "execution_count": 30,
     "metadata": {},
     "output_type": "execute_result"
    }
   ],
   "source": [
    "l = pts(o)"
   ]
  },
  {
   "cell_type": "code",
   "execution_count": 32,
   "id": "bba4d697",
   "metadata": {},
   "outputs": [
    {
     "data": {
      "text/plain": [
       "2-element Vector{Any}:\n",
       " Main.S1.Constituent(Dict{Symbol, Any}(:A => 10), Dict{Symbol, Any}(), Main.S1.Id[])\n",
       " Main.S2.Constituent(Dict{Symbol, Any}(), Dict{Symbol, Any}(), Main.S2.Id[])"
      ]
     },
     "execution_count": 32,
     "metadata": {},
     "output_type": "execute_result"
    }
   ],
   "source": [
    "sequence(S3.Id(3),S3.data)"
   ]
  },
  {
   "cell_type": "code",
   "execution_count": 33,
   "id": "c9f46af0",
   "metadata": {},
   "outputs": [
    {
     "data": {
      "text/plain": [
       "2-element Vector{Any}:\n",
       " Main.S1.Constituent(Dict{Symbol, Any}(:A => 10), Dict{Symbol, Any}(), Main.S1.Id[])\n",
       " Main.S2.Constituent(Dict{Symbol, Any}(), Dict{Symbol, Any}(), Main.S2.Id[])"
      ]
     },
     "execution_count": 33,
     "metadata": {},
     "output_type": "execute_result"
    }
   ],
   "source": [
    "sequence(l,S3.data)"
   ]
  },
  {
   "cell_type": "markdown",
   "id": "a18e2c36",
   "metadata": {},
   "source": [
    "## Example using JSON data"
   ]
  },
  {
   "cell_type": "code",
   "execution_count": 14,
   "id": "b60ce1fc",
   "metadata": {},
   "outputs": [
    {
     "data": {
      "text/plain": [
       "Main.CWISA95.Hierarchy()"
      ]
     },
     "execution_count": 14,
     "metadata": {},
     "output_type": "execute_result"
    }
   ],
   "source": [
    "module CWISA95 \n",
    "\n",
    "using JSON, Chakra\n",
    "\n",
    "\n",
    "function load_file()\n",
    "    d = nothing\n",
    "    open(\"cwisa95.json\",\"r\") do f\n",
    "        txt = read(f,String)\n",
    "        d = JSON.parse(txt)\n",
    "    end\n",
    "    return d\n",
    "end\n",
    "\n",
    "json = load_file()\n",
    "\n",
    "\n",
    "struct Id\n",
    "    id::Symbol\n",
    "end\n",
    "\n",
    "cwisa95 = Id(:cwisa95)\n",
    "step0 = Id(:step0)\n",
    "step1 = Id(:step1)\n",
    "\n",
    "abstract type Constituent end\n",
    "struct Step <: Constituent \n",
    "    index::Int\n",
    "end\n",
    "\n",
    "struct Directive <: Constituent end\n",
    "\n",
    "struct Hierarchy end\n",
    "\n",
    "Chakra.@Attribute(:description,String)\n",
    "\n",
    "\n",
    "Chakra.pts(c::Step) = Constituent[]\n",
    "Chakra.pts(::Directive) = Step[step0,step1]\n",
    "\n",
    "Chakra.fnd(::Val{:cwisa95},::Hierarchy) = Directive()\n",
    "Chakra.fnd(::Val{:step0},::Hierarchy) = Step(0) \n",
    "Chakra.fnd(::Val{:step1},::Hierarchy) = Step(1)\n",
    "Chakra.fnd(x::Id,h::Hierarchy) = fnd(Val(x.id),h)\n",
    "\n",
    "Chakra.geta(::Att{a,T},c::Step) where {a,T} = json[\"workDirective\"][c.index+1][String(a)]\n",
    "\n",
    "Chakra.dom(::Hierarchy) = [cwisa95,step0,step1]\n",
    "\n",
    "data = Hierarchy()\n",
    "\n",
    "end\n",
    "\n",
    "\n",
    "CWISA95.data"
   ]
  },
  {
   "cell_type": "code",
   "execution_count": 15,
   "id": "b8328985",
   "metadata": {},
   "outputs": [
    {
     "data": {
      "text/plain": [
       "3-element Vector{Main.CWISA95.Id}:\n",
       " Main.CWISA95.Id(:cwisa95)\n",
       " Main.CWISA95.Id(:step0)\n",
       " Main.CWISA95.Id(:step1)"
      ]
     },
     "execution_count": 15,
     "metadata": {},
     "output_type": "execute_result"
    }
   ],
   "source": [
    "dom(CWISA95.data)"
   ]
  },
  {
   "cell_type": "code",
   "execution_count": 16,
   "id": "19f7b4b7",
   "metadata": {},
   "outputs": [
    {
     "data": {
      "text/plain": [
       "Main.CWISA95.Step(0)"
      ]
     },
     "execution_count": 16,
     "metadata": {},
     "output_type": "execute_result"
    }
   ],
   "source": [
    "c = fnd(CWISA95.step0,CWISA95.data)"
   ]
  },
  {
   "cell_type": "code",
   "execution_count": 17,
   "id": "08ec332b",
   "metadata": {},
   "outputs": [
    {
     "data": {
      "text/plain": [
       "\"Place the bottom plate on the assembly station\""
      ]
     },
     "execution_count": 17,
     "metadata": {},
     "output_type": "execute_result"
    }
   ],
   "source": [
    "geta(:description,c)"
   ]
  },
  {
   "cell_type": "markdown",
   "id": "1890c398",
   "metadata": {},
   "source": [
    "## Next Steps\n",
    "\n",
    "1. Generate interfaces for AI assisted operator data sources\n",
    "2. Describe these data sources using the CHAKRA description language"
   ]
  },
  {
   "cell_type": "code",
   "execution_count": 18,
   "id": "cd4422ef",
   "metadata": {},
   "outputs": [],
   "source": [
    "abstract type READ{T} end\n",
    "abstract type STATE{T} end\n",
    "\n",
    "abstract type PROP end\n",
    "abstract type PROOF end\n",
    "\n",
    "struct Eq{T} <: PROP\n",
    "    x::T \n",
    "    y::T\n",
    "end\n",
    "\n",
    "struct Refl{T} <: PROOF\n",
    "    x::T\n",
    "end\n",
    "\n",
    "gettype(x::Refl{T}) where T = Eq(x.x,x.x)\n",
    "\n",
    "struct CONJ <: PROP\n",
    "    left::PROP\n",
    "    right::PROP\n",
    "end\n",
    "\n",
    "struct Pair <: PROOF\n",
    "    left::PROOF\n",
    "    right::PROOF\n",
    "end\n",
    "\n",
    "gettype(x::Pair) = CONJ(gettype(x.left),gettype(x.right))\n",
    "\n",
    "abstract type HPROP end\n",
    "\n",
    "struct HLIFT <: HPROP\n",
    "    p::PROP\n",
    "end\n",
    "\n",
    "(h::HLIFT)(s)::P where P<: PROP = h.p"
   ]
  }
 ],
 "metadata": {
  "kernelspec": {
   "display_name": "Julia 1.7.3",
   "language": "julia",
   "name": "julia-1.7"
  },
  "language_info": {
   "file_extension": ".jl",
   "mimetype": "application/julia",
   "name": "julia",
   "version": "1.7.3"
  }
 },
 "nbformat": 4,
 "nbformat_minor": 5
}
